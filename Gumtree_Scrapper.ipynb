{
 "cells": [
  {
   "cell_type": "code",
   "execution_count": 2,
   "metadata": {},
   "outputs": [],
   "source": [
    "from bs4 import BeautifulSoup\n",
    "from requests import get\n",
    "import pandas as pd\n",
    "import itertools\n",
    "import matplotlib.pyplot as plt\n",
    "import seaborn as sns\n",
    "sns.set()"
   ]
  },
  {
   "cell_type": "code",
   "execution_count": 3,
   "metadata": {},
   "outputs": [],
   "source": [
    "headers = ({'User-Agent':'Mozilla/5.0 (Windows NT 6.1) AppleWebKit/537.36 (KHTML, like Gecko) Chrome/41.0.2228.0 Safari/537.36'})"
   ]
  },
  {
   "cell_type": "code",
   "execution_count": 4,
   "metadata": {},
   "outputs": [],
   "source": [
    "sapo = \"https://www.gumtree.com.au/s-property-for-rent/caulfield-east-melbourne/apartment/k0c18364l3001455r2\"\n",
    "response = get(sapo, headers=headers)"
   ]
  },
  {
   "cell_type": "code",
   "execution_count": 5,
   "metadata": {},
   "outputs": [
    {
     "name": "stdout",
     "output_type": "stream",
     "text": [
      "<Response [200]>\n"
     ]
    }
   ],
   "source": [
    "print (response)"
   ]
  },
  {
   "cell_type": "code",
   "execution_count": 6,
   "metadata": {},
   "outputs": [
    {
     "name": "stdout",
     "output_type": "stream",
     "text": [
      "<!DOCTYPE html><html lang=\"en\" data-reactroot=\"\"><head><meta charSet=\"utf-8\"/><meta http-equiv=\"refresh\" content=\"21600\"/><title>apartment in Caulfield East 3145, VIC | Property for Rent | Gumtree Australia Free Local Classifieds</title><meta name=\"WT.cg_s\" content=\"rentals\"/><meta name=\"DCSext.loc2\" content=\"Melbourne Region\"/><meta name=\"DCSext.loc1\" content=\"gumtree.com.au\"/><meta name=\"DCSext.locale\" content=\"en_AU\"/><meta name=\"WT.cg_n\" content=\"real estate\"/><meta name=\"WT.oss_r\" content=\"23\"/><meta name=\"WT.oss\" content=\"apartment\"/><meta name=\"WT.pi\" content=\"Melbourne Region\"/><meta name=\"DCSext.page\" content=\"SearchAd\"/><meta name=\"description\" content=\"Find apartment ads in our Property for Rent category from Caulfield East 3145, VIC. Buy and sell almost anything on Gumtree classifieds.\"/><meta name=\"keywords\" content=\"Free, local, classifieds, classified Ads, Gumtree, Gumtree.com.au, apartment, Caulfield East 3145, VIC, Property for Rent, classes, real estate, babysitter, d\n"
     ]
    }
   ],
   "source": [
    "print(response.text[:1000])"
   ]
  },
  {
   "cell_type": "code",
   "execution_count": 7,
   "metadata": {},
   "outputs": [],
   "source": [
    "html_soup = BeautifulSoup(response.text, 'html.parser')\n"
   ]
  },
  {
   "cell_type": "code",
   "execution_count": 8,
   "metadata": {},
   "outputs": [],
   "source": [
    "house_containers = html_soup.find_all('a', class_=\"user-ad-row link link--base-color-inherit link--hover-color-none link--no-underline\")\n"
   ]
  },
  {
   "cell_type": "code",
   "execution_count": 9,
   "metadata": {},
   "outputs": [
    {
     "data": {
      "text/plain": [
       "[<span class=\"user-ad-price__price\">$560</span>,\n",
       " <span class=\"user-ad-row__location-area\">Melbourne Region</span>,\n",
       " <span class=\"user-ad-row__distance\"> </span>,\n",
       " <span aria-hidden=\"true\" class=\"\"><span class=\"icon-star icon-star user-ad-row__watchlist-star-icon\"></span></span>,\n",
       " <span class=\"icon-star icon-star user-ad-row__watchlist-star-icon\"></span>]"
      ]
     },
     "execution_count": 9,
     "metadata": {},
     "output_type": "execute_result"
    }
   ],
   "source": [
    "first = house_containers[0]\n",
    "first.find_all('span')"
   ]
  },
  {
   "cell_type": "code",
   "execution_count": 23,
   "metadata": {},
   "outputs": [
    {
     "data": {
      "text/plain": [
       "<a aria-describedby=\"user-ad-desc-TOP-1114673363\" aria-label=\"3 BEDROOM  FURN AND 2 BED FURN APARTMENTS  Nr CHAPEL ST  &amp; MONASH.\n",
       "        Price: $560 .\n",
       "        Location: Melbourne Region, Glen Eira Area. Ad listed 29/06/2018.\" class=\"user-ad-row link link--base-color-inherit link--hover-color-none link--no-underline\" href=\"/s-ad/glen-eira-area/property-for-rent/3-bedroom-furn-and-2-bed-furn-apartments-nr-chapel-st-monash/1114673363\" id=\"user-ad-1114673363\"><div class=\"user-ad-row__image-column\"><div class=\"user-ad-row__main-image-wrapper user-ad-row__main-image-wrapper--has-image\"><img alt=\"3 BEDROOM  FURN AND 2 BED FURN APARTMENTS  Nr CHAPEL ST  &amp; MONASH\" class=\"user-ad-row__image image image--is-hidden\" src=\"\"/></div></div><div class=\"user-ad-row__details\"><div class=\"user-ad-row__info\"><p class=\"user-ad-row__title\">3 BEDROOM  FURN AND 2 BED FURN APARTMENTS  Nr CHAPEL ST  &amp; MONASH</p><div class=\"user-ad-price user-ad-price--row\"><span class=\"user-ad-price__price\">$560</span> <!-- --> <!-- --> <!-- --> <!-- --> <!-- --> <!-- --> </div><ul class=\"user-ad-attributes\"><li class=\"user-ad-attributes__attribute\">1 Bathroom</li><li class=\"user-ad-attributes__attribute\">3 Bedrooms</li><li class=\"user-ad-attributes__attribute\">Apartment &amp; Unit</li></ul><p class=\"user-ad-row__description user-ad-row__description--regular\" id=\"user-ad-desc-TOP-1114673363\">2 APARTMENTS TO LET AVAILABLE 27TH DECEMBER &amp; 19TH DECEMBER ----------------------------------------------- \n",
       "3 BEDROOM FURN AVAIL 19TH DECEMBER AND 2 BED FURN APARTMENTS Nr CHAPEL ST &amp; MONASH 2 BEDROOM FURN RENT $449PLUS BILLS 10/77 HOTHAM ST BALACLAVA AVAIL 27TH DECEMBER -------------------------------------------------------------------------------------------------------------------- DESCRIPTION 3 BED FURN APARTMENT RENT $560/WK PLUS BILLS 3/19 CANTALA AVE CAULFIELD EA</p></div><div class=\"user-ad-row__extra-info\"><div class=\"user-ad-row__location\"><span class=\"user-ad-row__location-area\">Melbourne Region</span>Glen Eira Area<span class=\"user-ad-row__distance\"> </span></div><p class=\"user-ad-row__age\">29/06/2018</p></div></div><button class=\"user-ad-row__watchlist-star-wrapper watchlist-star button button--none button--flexible button--rounded\" type=\"button\"><span aria-hidden=\"true\" class=\"\"><span class=\"icon-star icon-star user-ad-row__watchlist-star-icon\"></span></span></button></a>"
      ]
     },
     "execution_count": 23,
     "metadata": {},
     "output_type": "execute_result"
    }
   ],
   "source": [
    "house_containers[0]"
   ]
  },
  {
   "cell_type": "code",
   "execution_count": 11,
   "metadata": {},
   "outputs": [
    {
     "data": {
      "text/plain": [
       "'$560'"
      ]
     },
     "execution_count": 11,
     "metadata": {},
     "output_type": "execute_result"
    }
   ],
   "source": [
    "var_1=first.find_all('span')[0].text\n",
    "var_1"
   ]
  },
  {
   "cell_type": "code",
   "execution_count": 12,
   "metadata": {},
   "outputs": [
    {
     "data": {
      "text/plain": [
       "'560'"
      ]
     },
     "execution_count": 12,
     "metadata": {},
     "output_type": "execute_result"
    }
   ],
   "source": [
    "var_1=var_1.replace('$','')\n",
    "var_1"
   ]
  },
  {
   "cell_type": "code",
   "execution_count": 13,
   "metadata": {},
   "outputs": [
    {
     "name": "stdout",
     "output_type": "stream",
     "text": [
      "560 <class 'int'>\n"
     ]
    }
   ],
   "source": [
    "var_1= int(''.join(itertools.takewhile(str.isdigit,var_1)))\n",
    "print(var_1,type (var_1))"
   ]
  },
  {
   "cell_type": "code",
   "execution_count": 25,
   "metadata": {},
   "outputs": [],
   "source": [
    "#location\n",
    "desc=first.find_all('p',class_=\"user-ad-row__description user-ad-row__description--regular\")[0].text"
   ]
  },
  {
   "cell_type": "code",
   "execution_count": 26,
   "metadata": {},
   "outputs": [
    {
     "data": {
      "text/plain": [
       "'2 APARTMENTS TO LET AVAILABLE 27TH DECEMBER & 19TH DECEMBER ----------------------------------------------- \\n3 BEDROOM FURN AVAIL 19TH DECEMBER AND 2 BED FURN APARTMENTS Nr CHAPEL ST & MONASH 2 BEDROOM FURN RENT $449PLUS BILLS 10/77 HOTHAM ST BALACLAVA AVAIL 27TH DECEMBER -------------------------------------------------------------------------------------------------------------------- DESCRIPTION 3 BED FURN APARTMENT RENT $560/WK PLUS BILLS 3/19 CANTALA AVE CAULFIELD EA'"
      ]
     },
     "execution_count": 26,
     "metadata": {},
     "output_type": "execute_result"
    }
   ],
   "source": [
    "desc"
   ]
  },
  {
   "cell_type": "code",
   "execution_count": 16,
   "metadata": {},
   "outputs": [],
   "source": [
    "#titile\n",
    "title=first.find_all('p',class_='user-ad-row__title')[0].text"
   ]
  },
  {
   "cell_type": "code",
   "execution_count": 27,
   "metadata": {},
   "outputs": [
    {
     "data": {
      "text/plain": [
       "'3 BEDROOM  FURN AND 2 BED FURN APARTMENTS  Nr CHAPEL ST  & MONASH'"
      ]
     },
     "execution_count": 27,
     "metadata": {},
     "output_type": "execute_result"
    }
   ],
   "source": [
    "title"
   ]
  },
  {
   "cell_type": "code",
   "execution_count": 17,
   "metadata": {},
   "outputs": [],
   "source": [
    "date=first.find_all('p',class_=\"user-ad-row__age\")[0].text"
   ]
  },
  {
   "cell_type": "code",
   "execution_count": 29,
   "metadata": {},
   "outputs": [
    {
     "data": {
      "text/plain": [
       "'2 APARTMENTS TO LET AVAILABLE 27TH DECEMBER & 19TH DECEMBER ----------------------------------------------- \\n3 BEDROOM FURN AVAIL 19TH DECEMBER AND 2 BED FURN APARTMENTS Nr CHAPEL ST & MONASH 2 BEDROOM FURN RENT $449PLUS BILLS 10/77 HOTHAM ST BALACLAVA AVAIL 27TH DECEMBER -------------------------------------------------------------------------------------------------------------------- DESCRIPTION 3 BED FURN APARTMENT RENT $560/WK PLUS BILLS 3/19 CANTALA AVE CAULFIELD EA'"
      ]
     },
     "execution_count": 29,
     "metadata": {},
     "output_type": "execute_result"
    }
   ],
   "source": [
    "date"
   ]
  },
  {
   "cell_type": "code",
   "execution_count": 32,
   "metadata": {},
   "outputs": [
    {
     "data": {
      "text/plain": [
       "[<a aria-describedby=\"user-ad-desc-TOP-1114673363\" aria-label=\"3 BEDROOM  FURN AND 2 BED FURN APARTMENTS  Nr CHAPEL ST  &amp; MONASH.\n",
       "         Price: $560 .\n",
       "         Location: Melbourne Region, Glen Eira Area. Ad listed 29/06/2018.\" class=\"user-ad-row link link--base-color-inherit link--hover-color-none link--no-underline\" href=\"/s-ad/glen-eira-area/property-for-rent/3-bedroom-furn-and-2-bed-furn-apartments-nr-chapel-st-monash/1114673363\" id=\"user-ad-1114673363\"><div class=\"user-ad-row__image-column\"><div class=\"user-ad-row__main-image-wrapper user-ad-row__main-image-wrapper--has-image\"><img alt=\"3 BEDROOM  FURN AND 2 BED FURN APARTMENTS  Nr CHAPEL ST  &amp; MONASH\" class=\"user-ad-row__image image image--is-hidden\" src=\"\"/></div></div><div class=\"user-ad-row__details\"><div class=\"user-ad-row__info\"><p class=\"user-ad-row__title\">3 BEDROOM  FURN AND 2 BED FURN APARTMENTS  Nr CHAPEL ST  &amp; MONASH</p><div class=\"user-ad-price user-ad-price--row\"><span class=\"user-ad-price__price\">$560</span> <!-- --> <!-- --> <!-- --> <!-- --> <!-- --> <!-- --> </div><ul class=\"user-ad-attributes\"><li class=\"user-ad-attributes__attribute\">1 Bathroom</li><li class=\"user-ad-attributes__attribute\">3 Bedrooms</li><li class=\"user-ad-attributes__attribute\">Apartment &amp; Unit</li></ul><p class=\"user-ad-row__description user-ad-row__description--regular\" id=\"user-ad-desc-TOP-1114673363\">2 APARTMENTS TO LET AVAILABLE 27TH DECEMBER &amp; 19TH DECEMBER ----------------------------------------------- \n",
       " 3 BEDROOM FURN AVAIL 19TH DECEMBER AND 2 BED FURN APARTMENTS Nr CHAPEL ST &amp; MONASH 2 BEDROOM FURN RENT $449PLUS BILLS 10/77 HOTHAM ST BALACLAVA AVAIL 27TH DECEMBER -------------------------------------------------------------------------------------------------------------------- DESCRIPTION 3 BED FURN APARTMENT RENT $560/WK PLUS BILLS 3/19 CANTALA AVE CAULFIELD EA</p></div><div class=\"user-ad-row__extra-info\"><div class=\"user-ad-row__location\"><span class=\"user-ad-row__location-area\">Melbourne Region</span>Glen Eira Area<span class=\"user-ad-row__distance\"> </span></div><p class=\"user-ad-row__age\">29/06/2018</p></div></div><button class=\"user-ad-row__watchlist-star-wrapper watchlist-star button button--none button--flexible button--rounded\" type=\"button\"><span aria-hidden=\"true\" class=\"\"><span class=\"icon-star icon-star user-ad-row__watchlist-star-icon\"></span></span></button></a>,\n",
       " <a aria-describedby=\"user-ad-desc-MAIN-1202561911\" aria-label=\"11/11 Murrumbeena Road, Murrumbeena - RARE TWO STOREY APARTMENT.\n",
       "         Price: $315 .\n",
       "         Location: Glen Eira Area, Murrumbeena. Ad listed 6 hours ago.\" class=\"user-ad-row link link--base-color-inherit link--hover-color-none link--no-underline\" href=\"/s-ad/murrumbeena/property-for-rent/11-11-murrumbeena-road-murrumbeena-rare-two-storey-apartment/1202561911\" id=\"user-ad-1202561911\"><div class=\"user-ad-row__image-column\"><div class=\"user-ad-row__main-image-wrapper user-ad-row__main-image-wrapper--has-image\"><img alt=\"11/11 Murrumbeena Road, Murrumbeena - RARE TWO STOREY APARTMENT\" class=\"user-ad-row__image image image--is-hidden\" src=\"\"/></div></div><div class=\"user-ad-row__details\"><div class=\"user-ad-row__info\"><p class=\"user-ad-row__title\">11/11 Murrumbeena Road, Murrumbeena - RARE TWO STOREY APARTMENT</p><div class=\"user-ad-price user-ad-price--row\"><span class=\"user-ad-price__price\">$315</span> <!-- --> <!-- --> <!-- --> <!-- --> <!-- --> <!-- --> </div><ul class=\"user-ad-attributes\"><li class=\"user-ad-attributes__attribute\">Agency</li><li class=\"user-ad-attributes__attribute\">1 Bathroom</li><li class=\"user-ad-attributes__attribute\">1 Bedroom</li><li class=\"user-ad-attributes__attribute\">Apartment &amp; Unit</li></ul><p class=\"user-ad-row__description user-ad-row__description--regular\" id=\"user-ad-desc-MAIN-1202561911\">This fantastic two storey unit is comprised of a downstairs living and open plan kitchen equipped with electric cooking, ample storage, washing machine and fridge. Upstairs a spacious bedroom with built in robes and split system, bathroom with shower, vanity and toilet. Fantastic location close to Murrumbeena Station, shops, cafes and Chadstone shopping centre</p></div><div class=\"user-ad-row__extra-info\"><div class=\"user-ad-row__location\"><span class=\"user-ad-row__location-area\">Glen Eira Area</span>Murrumbeena<span class=\"user-ad-row__distance\"> <!-- -->&lt; 3 km</span></div><p class=\"user-ad-row__age\">6 hours ago</p></div></div><button class=\"user-ad-row__watchlist-star-wrapper watchlist-star button button--none button--flexible button--rounded\" type=\"button\"><span aria-hidden=\"true\" class=\"\"><span class=\"icon-star icon-star user-ad-row__watchlist-star-icon\"></span></span></button></a>,\n",
       " <a aria-describedby=\"user-ad-desc-MAIN-1202493403\" aria-label=\"One bedroom fully furnished apartment in  North Caulfield.\n",
       "         Price: $350 .\n",
       "         Location: Glen Eira Area, Caulfield North. Ad listed Yesterday.\" class=\"user-ad-row link link--base-color-inherit link--hover-color-none link--no-underline\" href=\"/s-ad/caulfield-north/property-for-rent/one-bedroom-fully-furnished-apartment-in-north-caulfield/1202493403\" id=\"user-ad-1202493403\"><div class=\"urgent-flag urgent-flag--large\">Urgent</div><div class=\"user-ad-row__image-column\"><div class=\"user-ad-row__main-image-wrapper user-ad-row__main-image-wrapper--has-not-image\"><span aria-hidden=\"true\" class=\"user-ad-row__image-placeholder\"><span class=\"icon-logo-icon\"></span></span></div></div><div class=\"user-ad-row__details\"><div class=\"user-ad-row__info\"><p class=\"user-ad-row__title\">One bedroom fully furnished apartment in  North Caulfield</p><div class=\"user-ad-price user-ad-price--row\"><span class=\"user-ad-price__price\">$350</span> <!-- --> <!-- --> <!-- --> <!-- --> <!-- --> <!-- --> </div><ul class=\"user-ad-attributes\"><li class=\"user-ad-attributes__attribute\">Agency</li><li class=\"user-ad-attributes__attribute\">1 Bathroom</li><li class=\"user-ad-attributes__attribute\">1 Bedroom</li><li class=\"user-ad-attributes__attribute\">Apartment &amp; Unit</li></ul><p class=\"user-ad-row__description user-ad-row__description--regular\" id=\"user-ad-desc-MAIN-1202493403\">Better then Brand New! Fully renovated, fully furnished and freshly painted one bedroom apartment with undercover parking on title. In the heart of North Caulfield, located in the small block, only minutes walk to Monash uni Caulfield, Caulfield Station, Caulfield Plaza with Coles supermarket, cafes, shops etc. Apartment situated upstairs, comprised of new modern kitchen, with new fridge, microwave, dishes, cutlery and much more. Renovated bathroom with brand new toilet Bedroom with brand-n</p></div><div class=\"user-ad-row__extra-info\"><div class=\"user-ad-row__location\"><span class=\"user-ad-row__location-area\">Glen Eira Area</span>Caulfield North<span class=\"user-ad-row__distance\"> <!-- -->&lt; 1 km</span></div><p class=\"user-ad-row__age\">Yesterday</p></div></div><button class=\"user-ad-row__watchlist-star-wrapper watchlist-star button button--none button--flexible button--rounded\" type=\"button\"><span aria-hidden=\"true\" class=\"\"><span class=\"icon-star icon-star user-ad-row__watchlist-star-icon\"></span></span></button></a>,\n",
       " <a aria-describedby=\"user-ad-desc-MAIN-1202457127\" aria-label=\"For Lease 2 Bedroom Apt in Malvern East close to Darling Station.\n",
       "         Price: $450 .\n",
       "         Location: Stonnington Area, Malvern East. Ad listed Yesterday.\" class=\"user-ad-row link link--base-color-inherit link--hover-color-none link--no-underline\" href=\"/s-ad/malvern-east/property-for-rent/for-lease-2-bedroom-apt-in-malvern-east-close-to-darling-station/1202457127\" id=\"user-ad-1202457127\"><div class=\"user-ad-row__image-column\"><div class=\"user-ad-row__main-image-wrapper user-ad-row__main-image-wrapper--has-image\"><img alt=\"For Lease 2 Bedroom Apt in Malvern East close to Darling Station\" class=\"user-ad-row__image image image--is-hidden\" src=\"\"/></div></div><div class=\"user-ad-row__details\"><div class=\"user-ad-row__info\"><p class=\"user-ad-row__title\">For Lease 2 Bedroom Apt in Malvern East close to Darling Station</p><div class=\"user-ad-price user-ad-price--row\"><span class=\"user-ad-price__price\">$450</span> <!-- --> <!-- --> <!-- --> <!-- --> <!-- --> <!-- --> </div><ul class=\"user-ad-attributes\"><li class=\"user-ad-attributes__attribute\">Agency</li><li class=\"user-ad-attributes__attribute\">1 Bathroom</li><li class=\"user-ad-attributes__attribute\">2 Bedrooms</li><li class=\"user-ad-attributes__attribute\">Apartment &amp; Unit</li></ul><p class=\"user-ad-row__description user-ad-row__description--regular\" id=\"user-ad-desc-MAIN-1202457127\">This extremely spacious two bedroom apartment is ideally located in the heart of Malvern East. Cleverly renovated and refreshed it comprises two enormous bedrooms with BIR's and new carpet, entry foyer, large open plan kitchen/dining/living area with an alfresco balcony. Modern bathroom with laundry facilities, tiled in all living areas, gas 6 burner stove, split system for cooling and heating and one off street car space. Close to transport, a choice of many schools including St Marys Primary </p></div><div class=\"user-ad-row__extra-info\"><div class=\"user-ad-row__location\"><span class=\"user-ad-row__location-area\">Stonnington Area</span>Malvern East<span class=\"user-ad-row__distance\"> <!-- -->&lt; 2 km</span></div><p class=\"user-ad-row__age\">Yesterday</p></div></div><button class=\"user-ad-row__watchlist-star-wrapper watchlist-star button button--none button--flexible button--rounded\" type=\"button\"><span aria-hidden=\"true\" class=\"\"><span class=\"icon-star icon-star user-ad-row__watchlist-star-icon\"></span></span></button></a>,\n",
       " <a aria-describedby=\"user-ad-desc-MAIN-1202453774\" aria-label=\"114/9 Morton Avenue, Carnegie  - 3BRD For RENT.\n",
       "         Price: $670 .\n",
       "         Location: Glen Eira Area, Carnegie. Ad listed Yesterday.\" class=\"user-ad-row link link--base-color-inherit link--hover-color-none link--no-underline\" href=\"/s-ad/carnegie/property-for-rent/114-9-morton-avenue-carnegie-3brd-for-rent/1202453774\" id=\"user-ad-1202453774\"><div class=\"user-ad-row__image-column\"><div class=\"user-ad-row__main-image-wrapper user-ad-row__main-image-wrapper--has-image\"><img alt=\"114/9 Morton Avenue, Carnegie  - 3BRD For RENT\" class=\"user-ad-row__image image image--is-hidden\" src=\"\"/></div></div><div class=\"user-ad-row__details\"><div class=\"user-ad-row__info\"><p class=\"user-ad-row__title\">114/9 Morton Avenue, Carnegie  - 3BRD For RENT</p><div class=\"user-ad-price user-ad-price--row\"><span class=\"user-ad-price__price\">$670</span> <!-- --> <!-- --> <!-- --> <!-- --> <!-- --> <!-- --> </div><ul class=\"user-ad-attributes\"><li class=\"user-ad-attributes__attribute\">Agency</li><li class=\"user-ad-attributes__attribute\">2 Bathrooms</li><li class=\"user-ad-attributes__attribute\">3 Bedrooms</li><li class=\"user-ad-attributes__attribute\">Apartment &amp; Unit</li></ul><p class=\"user-ad-row__description user-ad-row__description--regular\" id=\"user-ad-desc-MAIN-1202453774\">*****IMPORTANT REGISTER TO INSPECT PROPERTIES ******* \n",
       " Offering an outstanding location &amp; lifestyle, this ground floor, three bedroom apartment has everything you need. Consisting of; large carpeted living and dining area with split system heating/air con which opens up to sunny private courtyard. Open plan kitchen including stainless steel appliances (dishwasher, stove and oven), three bedrooms with mirrored built in robes and large windows, two bathrooms and euro laundry. Features: Secure</p></div><div class=\"user-ad-row__extra-info\"><div class=\"user-ad-row__location\"><span class=\"user-ad-row__location-area\">Glen Eira Area</span>Carnegie<span class=\"user-ad-row__distance\"> <!-- -->&lt; 2 km</span></div><p class=\"user-ad-row__age\">Yesterday</p></div></div><button class=\"user-ad-row__watchlist-star-wrapper watchlist-star button button--none button--flexible button--rounded\" type=\"button\"><span aria-hidden=\"true\" class=\"\"><span class=\"icon-star icon-star user-ad-row__watchlist-star-icon\"></span></span></button></a>,\n",
       " <a aria-describedby=\"user-ad-desc-MAIN-1202343517\" aria-label=\"2BR apartment for lease transfer in Armadale $430p/w.\n",
       "         Price: $430 .\n",
       "         Location: Stonnington Area, Armadale. Ad listed 28/11/2018.\" class=\"user-ad-row link link--base-color-inherit link--hover-color-none link--no-underline\" href=\"/s-ad/armadale/property-for-rent/2br-apartment-for-lease-transfer-in-armadale-430p-w/1202343517\" id=\"user-ad-1202343517\"><div class=\"user-ad-row__image-column\"><div class=\"user-ad-row__main-image-wrapper user-ad-row__main-image-wrapper--has-image\"><img alt=\"2BR apartment for lease transfer in Armadale $430p/w\" class=\"user-ad-row__image image image--is-hidden\" src=\"\"/></div></div><div class=\"user-ad-row__details\"><div class=\"user-ad-row__info\"><p class=\"user-ad-row__title\">2BR apartment for lease transfer in Armadale $430p/w</p><div class=\"user-ad-price user-ad-price--row\"><span class=\"user-ad-price__price\">$430</span> <!-- --> <!-- --> <!-- --> <!-- --> <!-- --> <!-- --> </div><ul class=\"user-ad-attributes\"><li class=\"user-ad-attributes__attribute\">Agency</li><li class=\"user-ad-attributes__attribute\">1 Bathroom</li><li class=\"user-ad-attributes__attribute\">2 Bedrooms</li><li class=\"user-ad-attributes__attribute\">Apartment &amp; Unit</li></ul><p class=\"user-ad-row__description user-ad-row__description--regular\" id=\"user-ad-desc-MAIN-1202343517\">Lease transfer available for a light filled apartment in Armadale. The apartment consists of two generous sized bedrooms both with BIRs, air-conditioner/heater, private carport, dishwasher and washing machine (communal drier also available). Excellent public transport connections with three trams (two mins) and a train line (eight mins) all within close walking distance. Glenferrie road, Armadale High St and Malvern Central also close by and within easy walking distance. \n",
       " The apartment is si</p></div><div class=\"user-ad-row__extra-info\"><div class=\"user-ad-row__location\"><span class=\"user-ad-row__location-area\">Stonnington Area</span>Armadale<span class=\"user-ad-row__distance\"> <!-- -->&lt; 3 km</span></div><p class=\"user-ad-row__age\">28/11/2018</p></div></div><button class=\"user-ad-row__watchlist-star-wrapper watchlist-star button button--none button--flexible button--rounded\" type=\"button\"><span aria-hidden=\"true\" class=\"\"><span class=\"icon-star icon-star user-ad-row__watchlist-star-icon\"></span></span></button></a>,\n",
       " <a aria-describedby=\"user-ad-desc-MAIN-1202283146\" aria-label=\"Need one Roomate.\n",
       "         Price: $100 .\n",
       "         Location: Glen Eira Area, Caulfield East. Ad listed 27/11/2018.\" class=\"user-ad-row link link--base-color-inherit link--hover-color-none link--no-underline\" href=\"/s-ad/caulfield-east/property-for-rent/need-one-roomate/1202283146\" id=\"user-ad-1202283146\"><div class=\"user-ad-row__image-column\"><div class=\"user-ad-row__main-image-wrapper user-ad-row__main-image-wrapper--has-image\"><img alt=\"Need one Roomate\" class=\"user-ad-row__image image image--is-hidden\" src=\"\"/></div></div><div class=\"user-ad-row__details\"><div class=\"user-ad-row__info\"><p class=\"user-ad-row__title\">Need one Roomate</p><div class=\"user-ad-price user-ad-price--row\"><span class=\"user-ad-price__price\">$100</span> <!-- --> <!-- --> <!-- --> <!-- --> <!-- --> <!-- --> </div><ul class=\"user-ad-attributes\"><li class=\"user-ad-attributes__attribute\">1 Bathroom</li><li class=\"user-ad-attributes__attribute\">2 Bedrooms</li><li class=\"user-ad-attributes__attribute\">Apartment &amp; Unit</li></ul><p class=\"user-ad-row__description user-ad-row__description--regular\" id=\"user-ad-desc-MAIN-1202283146\">Luxurious 2bhk apartment, centrally located at around 10 mins walking distance from Caulfield station and Coles shopping plaza. Peaceful community with all amenities and a fully furnished apartment. Perfect for Monash students as the University is just a stone’s throw away. Address- 8/8 Tattenham street, Caulfield East – 3145. Sublet – a single tenant is required who is looking for a shared room. Benefits- Fully furnished and well set, so you just need to walk in with your bag. Rent-… $10</p></div><div class=\"user-ad-row__extra-info\"><div class=\"user-ad-row__location\"><span class=\"user-ad-row__location-area\">Glen Eira Area</span>Caulfield East<span class=\"user-ad-row__distance\"> </span></div><p class=\"user-ad-row__age\">27/11/2018</p></div></div><button class=\"user-ad-row__watchlist-star-wrapper watchlist-star button button--none button--flexible button--rounded\" type=\"button\"><span aria-hidden=\"true\" class=\"\"><span class=\"icon-star icon-star user-ad-row__watchlist-star-icon\"></span></span></button></a>,\n",
       " <a aria-describedby=\"user-ad-desc-MAIN-1202249575\" aria-label=\"4/9 Marriott Street, Caulfield - Enormous Two Bedroom Apartment!.\n",
       "         Price: $450 .\n",
       "         Location: Glen Eira Area, Caulfield. Ad listed 27/11/2018.\" class=\"user-ad-row link link--base-color-inherit link--hover-color-none link--no-underline\" href=\"/s-ad/caulfield/property-for-rent/4-9-marriott-street-caulfield-enormous-two-bedroom-apartment-/1202249575\" id=\"user-ad-1202249575\"><div class=\"user-ad-row__image-column\"><div class=\"user-ad-row__main-image-wrapper user-ad-row__main-image-wrapper--has-image\"><img alt=\"4/9 Marriott Street, Caulfield - Enormous Two Bedroom Apartment!\" class=\"user-ad-row__image image image--is-hidden\" src=\"\"/></div></div><div class=\"user-ad-row__details\"><div class=\"user-ad-row__info\"><p class=\"user-ad-row__title\">4/9 Marriott Street, Caulfield - Enormous Two Bedroom Apartment!</p><div class=\"user-ad-price user-ad-price--row\"><span class=\"user-ad-price__price\">$450</span> <!-- --> <!-- --> <!-- --> <!-- --> <!-- --> <!-- --> </div><ul class=\"user-ad-attributes\"><li class=\"user-ad-attributes__attribute\">Agency</li><li class=\"user-ad-attributes__attribute\">1 Bathroom</li><li class=\"user-ad-attributes__attribute\">2 Bedrooms</li><li class=\"user-ad-attributes__attribute\">Apartment &amp; Unit</li></ul><p class=\"user-ad-row__description user-ad-row__description--regular\" id=\"user-ad-desc-MAIN-1202249575\">This larger than average two bedroom apartment with brand new carpet and fresh paint is ideally located in close proximity to the Glenhuntly Road shops, transport on Dandenong Road and a stones throw away from the Caulfield Racecourse and Caulfield Station!! Set in the leafy treetops on the second floor and consisting of; intercom, huge entrance hall flowing through to the large open plan Living/Dining Area with split-system heating and cooling which opens out on to your own private balcony. </p></div><div class=\"user-ad-row__extra-info\"><div class=\"user-ad-row__location\"><span class=\"user-ad-row__location-area\">Glen Eira Area</span>Caulfield<span class=\"user-ad-row__distance\"> <!-- -->&lt; 1 km</span></div><p class=\"user-ad-row__age\">27/11/2018</p></div></div><button class=\"user-ad-row__watchlist-star-wrapper watchlist-star button button--none button--flexible button--rounded\" type=\"button\"><span aria-hidden=\"true\" class=\"\"><span class=\"icon-star icon-star user-ad-row__watchlist-star-icon\"></span></span></button></a>,\n",
       " <a aria-describedby=\"user-ad-desc-MAIN-1202185027\" aria-label=\"Perfect two bedroom apartment in ideal location.\n",
       "         Price: $375 .\n",
       "         Location: Glen Eira Area, Caulfield North. Ad listed 26/11/2018.\" class=\"user-ad-row link link--base-color-inherit link--hover-color-none link--no-underline\" href=\"/s-ad/caulfield-north/property-for-rent/perfect-two-bedroom-apartment-in-ideal-location/1202185027\" id=\"user-ad-1202185027\"><div class=\"user-ad-row__image-column\"><div class=\"user-ad-row__main-image-wrapper user-ad-row__main-image-wrapper--has-image\"><img alt=\"Perfect two bedroom apartment in ideal location\" class=\"user-ad-row__image image image--is-hidden\" src=\"\"/></div></div><div class=\"user-ad-row__details\"><div class=\"user-ad-row__info\"><p class=\"user-ad-row__title\">Perfect two bedroom apartment in ideal location</p><div class=\"user-ad-price user-ad-price--row\"><span class=\"user-ad-price__price\">$375</span> <!-- --> <!-- --> <!-- --> <!-- --> <!-- --> <!-- --> </div><ul class=\"user-ad-attributes\"><li class=\"user-ad-attributes__attribute\">Agency</li><li class=\"user-ad-attributes__attribute\">1 Bathroom</li><li class=\"user-ad-attributes__attribute\">2 Bedrooms</li><li class=\"user-ad-attributes__attribute\">Apartment &amp; Unit</li></ul><p class=\"user-ad-row__description user-ad-row__description--regular\" id=\"user-ad-desc-MAIN-1202185027\">This spacious two bedroom apartment offers it all ! Comprising of a generously proportioned living space with a wall heater and reverse cycle split system, seperate kitchen with gas cooking facilities, balcony and built in robes in both bedrooms. It also includes an undercover car space and a communal laundry. Located in the heart of Caulfield North &amp; close to Caulfield Park, local shops, cafes &amp; trams- you will be hard pressed to find a more convenient home. \n",
       " To inspect, please refer to t</p></div><div class=\"user-ad-row__extra-info\"><div class=\"user-ad-row__location\"><span class=\"user-ad-row__location-area\">Glen Eira Area</span>Caulfield North<span class=\"user-ad-row__distance\"> <!-- -->&lt; 2 km</span></div><p class=\"user-ad-row__age\">26/11/2018</p></div></div><button class=\"user-ad-row__watchlist-star-wrapper watchlist-star button button--none button--flexible button--rounded\" type=\"button\"><span aria-hidden=\"true\" class=\"\"><span class=\"icon-star icon-star user-ad-row__watchlist-star-icon\"></span></span></button></a>,\n",
       " <a aria-describedby=\"user-ad-desc-MAIN-1201867031\" aria-label=\"6/40 Northcote Avenue, CAULFIELD NORTH - THREE BEDROOM APARTMENT!.\n",
       "         Price: $450 .\n",
       "         Location: Glen Eira Area, Caulfield. Ad listed 23/11/2018.\" class=\"user-ad-row link link--base-color-inherit link--hover-color-none link--no-underline\" href=\"/s-ad/caulfield/property-for-rent/6-40-northcote-avenue-caulfield-north-three-bedroom-apartment-/1201867031\" id=\"user-ad-1201867031\"><div class=\"user-ad-row__image-column\"><div class=\"user-ad-row__main-image-wrapper user-ad-row__main-image-wrapper--has-image\"><img alt=\"6/40 Northcote Avenue, CAULFIELD NORTH - THREE BEDROOM APARTMENT!\" class=\"user-ad-row__image image image--is-hidden\" src=\"\"/></div></div><div class=\"user-ad-row__details\"><div class=\"user-ad-row__info\"><p class=\"user-ad-row__title\">6/40 Northcote Avenue, CAULFIELD NORTH - THREE BEDROOM APARTMENT!</p><div class=\"user-ad-price user-ad-price--row\"><span class=\"user-ad-price__price\">$450</span> <!-- --> <!-- --> <!-- --> <!-- --> <!-- --> <!-- --> </div><ul class=\"user-ad-attributes\"><li class=\"user-ad-attributes__attribute\">Agency</li><li class=\"user-ad-attributes__attribute\">1 Bathroom</li><li class=\"user-ad-attributes__attribute\">3 Bedrooms</li><li class=\"user-ad-attributes__attribute\">Apartment &amp; Unit</li></ul><p class=\"user-ad-row__description user-ad-row__description--regular\" id=\"user-ad-desc-MAIN-1201867031\">Features: Leafy front and court yard gardens. Security entry, entrance hall, large lounge dining room (gas wall furnace) and south facing balcony, generous modern kitchen with gas stove and meals area. 3 good size bedrooms (with built in robes), bathroom contains both shower and separate bath plus washing machine taps, separate toilet. Bedrooms and hall feature parquetry flooring. Under cover parking, external communal laundry, with washing machines.</p></div><div class=\"user-ad-row__extra-info\"><div class=\"user-ad-row__location\"><span class=\"user-ad-row__location-area\">Glen Eira Area</span>Caulfield<span class=\"user-ad-row__distance\"> <!-- -->&lt; 1 km</span></div><p class=\"user-ad-row__age\">23/11/2018</p></div></div><button class=\"user-ad-row__watchlist-star-wrapper watchlist-star button button--none button--flexible button--rounded\" type=\"button\"><span aria-hidden=\"true\" class=\"\"><span class=\"icon-star icon-star user-ad-row__watchlist-star-icon\"></span></span></button></a>,\n",
       " <a aria-describedby=\"user-ad-desc-MAIN-1201843992\" aria-label=\"1/1136 Dandenong Road Carnegie-3 BEDROOM GROUND FLOOR APARTMENT.\n",
       "         Price: $590 .\n",
       "         Location: Glen Eira Area, Carnegie. Ad listed 23/11/2018.\" class=\"user-ad-row link link--base-color-inherit link--hover-color-none link--no-underline\" href=\"/s-ad/carnegie/property-for-rent/1-1136-dandenong-road-carnegie-3-bedroom-ground-floor-apartment/1201843992\" id=\"user-ad-1201843992\"><div class=\"user-ad-row__image-column\"><div class=\"user-ad-row__main-image-wrapper user-ad-row__main-image-wrapper--has-image\"><img alt=\"1/1136 Dandenong Road Carnegie-3 BEDROOM GROUND FLOOR APARTMENT\" class=\"user-ad-row__image image image--is-hidden\" src=\"\"/></div></div><div class=\"user-ad-row__details\"><div class=\"user-ad-row__info\"><p class=\"user-ad-row__title\">1/1136 Dandenong Road Carnegie-3 BEDROOM GROUND FLOOR APARTMENT</p><div class=\"user-ad-price user-ad-price--row\"><span class=\"user-ad-price__price\">$590</span> <!-- --> <!-- --> <!-- --> <!-- --> <!-- --> <!-- --> </div><ul class=\"user-ad-attributes\"><li class=\"user-ad-attributes__attribute\">Agency</li><li class=\"user-ad-attributes__attribute\">1 Bathroom</li><li class=\"user-ad-attributes__attribute\">3 Bedrooms</li><li class=\"user-ad-attributes__attribute\">Apartment &amp; Unit</li></ul><p class=\"user-ad-row__description user-ad-row__description--regular\" id=\"user-ad-desc-MAIN-1201843992\">This sensational three bedroom apartment is a masterpiece in lifestyle living. With a taste for open plan entertaining this property boasts floating timber floors in the adjoining kitchen/living room with gas cooking, dishwasher &amp; lots of cupboard space. Large private courtyard perfect for the entertainer, sparkling bathroom with double sink &amp; separate bath &amp; shower, european laundry, reverse cycle air conditioning, three bedrooms with built in robes, video intercom and security basement pa</p></div><div class=\"user-ad-row__extra-info\"><div class=\"user-ad-row__location\"><span class=\"user-ad-row__location-area\">Glen Eira Area</span>Carnegie<span class=\"user-ad-row__distance\"> <!-- -->&lt; 2 km</span></div><p class=\"user-ad-row__age\">23/11/2018</p></div></div><button class=\"user-ad-row__watchlist-star-wrapper watchlist-star button button--none button--flexible button--rounded\" type=\"button\"><span aria-hidden=\"true\" class=\"\"><span class=\"icon-star icon-star user-ad-row__watchlist-star-icon\"></span></span></button></a>,\n",
       " <a aria-describedby=\"user-ad-desc-MAIN-1201796677\" aria-label=\"A studio apartment for rent.\n",
       "         Price: $225 .\n",
       "         Location: Glen Eira Area, Caulfield East. Ad listed 22/11/2018.\" class=\"user-ad-row link link--base-color-inherit link--hover-color-none link--no-underline\" href=\"/s-ad/caulfield-east/property-for-rent/a-studio-apartment-for-rent/1201796677\" id=\"user-ad-1201796677\"><div class=\"user-ad-row__image-column\"><div class=\"user-ad-row__main-image-wrapper user-ad-row__main-image-wrapper--has-image\"><img alt=\"A studio apartment for rent\" class=\"user-ad-row__image image image--is-hidden\" src=\"\"/></div></div><div class=\"user-ad-row__details\"><div class=\"user-ad-row__info\"><p class=\"user-ad-row__title\">A studio apartment for rent</p><div class=\"user-ad-price user-ad-price--row\"><span class=\"user-ad-price__price\">$225</span> <!-- --> <!-- --> <!-- --> <!-- --> <!-- --> <!-- --> </div><ul class=\"user-ad-attributes\"><li class=\"user-ad-attributes__attribute\">Agency</li><li class=\"user-ad-attributes__attribute\">1 Bathroom</li><li class=\"user-ad-attributes__attribute\">Studio or Bachelor Pad</li><li class=\"user-ad-attributes__attribute\">Apartment &amp; Unit</li></ul><p class=\"user-ad-row__description user-ad-row__description--regular\" id=\"user-ad-desc-MAIN-1201796677\">Studio apartment for rent at Princes Highway Service Road, Caulfield East, Melbourne. Availability: 25th December 2018 \n",
       " Transferring lease. Great sane place with a front porch. Perfect as a Bachelor's Pad. Friendly neighbours. \n",
       " 5 mins walk from Caulfield University, train station, shops and cafes. All rooms fully furnished including heater, bed, wardrobe, cupboards, bench, table and chair. All rooms have an exclusive toilet and shower. All rooms have Individual 110 litre fridge. Mic</p></div><div class=\"user-ad-row__extra-info\"><div class=\"user-ad-row__location\"><span class=\"user-ad-row__location-area\">Glen Eira Area</span>Caulfield East<span class=\"user-ad-row__distance\"> <!-- -->&lt; 1 km</span></div><p class=\"user-ad-row__age\">22/11/2018</p></div></div><button class=\"user-ad-row__watchlist-star-wrapper watchlist-star button button--none button--flexible button--rounded\" type=\"button\"><span aria-hidden=\"true\" class=\"\"><span class=\"icon-star icon-star user-ad-row__watchlist-star-icon\"></span></span></button></a>,\n",
       " <a aria-describedby=\"user-ad-desc-MAIN-1201475629\" aria-label=\"4/11 Briggs Street, Caulfield - Spacious 2 Bedroom Apartment!!!.\n",
       "         Price: $450 .\n",
       "         Location: Glen Eira Area, Caulfield South. Ad listed 19/11/2018.\" class=\"user-ad-row link link--base-color-inherit link--hover-color-none link--no-underline\" href=\"/s-ad/caulfield-south/property-for-rent/4-11-briggs-street-caulfield-spacious-2-bedroom-apartment-/1201475629\" id=\"user-ad-1201475629\"><div class=\"user-ad-row__image-column\"><div class=\"user-ad-row__main-image-wrapper user-ad-row__main-image-wrapper--has-image\"><img alt=\"4/11 Briggs Street, Caulfield - Spacious 2 Bedroom Apartment!!!\" class=\"user-ad-row__image image image--is-hidden\" src=\"\"/></div></div><div class=\"user-ad-row__details\"><div class=\"user-ad-row__info\"><p class=\"user-ad-row__title\">4/11 Briggs Street, Caulfield - Spacious 2 Bedroom Apartment!!!</p><div class=\"user-ad-price user-ad-price--row\"><span class=\"user-ad-price__price\">$450</span> <!-- --> <!-- --> <!-- --> <!-- --> <!-- --> <!-- --> </div><ul class=\"user-ad-attributes\"><li class=\"user-ad-attributes__attribute\">Agency</li><li class=\"user-ad-attributes__attribute\">1 Bathroom</li><li class=\"user-ad-attributes__attribute\">2 Bedrooms</li><li class=\"user-ad-attributes__attribute\">Apartment &amp; Unit</li></ul><p class=\"user-ad-row__description user-ad-row__description--regular\" id=\"user-ad-desc-MAIN-1201475629\">This supersized apartment is located on the first floor in a block of only 4. Consists of; large hallway with cupboards, open plan living/dining with floating floor boards which flows onto a sunny balcony, kitchen/meals area with air conditioning, separate laundry, bathroom with separate shower &amp; bath, separate toilet, two bedrooms with built in robes. Other features include gas ducted heating and single lock-up garage. All this with just a walk away from trams, shops &amp; a variety of cosmopolita</p></div><div class=\"user-ad-row__extra-info\"><div class=\"user-ad-row__location\"><span class=\"user-ad-row__location-area\">Glen Eira Area</span>Caulfield South<span class=\"user-ad-row__distance\"> <!-- -->&lt; 2 km</span></div><p class=\"user-ad-row__age\">19/11/2018</p></div></div><button class=\"user-ad-row__watchlist-star-wrapper watchlist-star button button--none button--flexible button--rounded\" type=\"button\"><span aria-hidden=\"true\" class=\"\"><span class=\"icon-star icon-star user-ad-row__watchlist-star-icon\"></span></span></button></a>,\n",
       " <a aria-describedby=\"user-ad-desc-MAIN-1201305049\" aria-label=\"Whole Apartment for rental-monash/caulfield-suitble to 1/2 people.\n",
       "         Price: $250 .\n",
       "         Location: Stonnington Area, Malvern East. Ad listed 18/11/2018.\" class=\"user-ad-row link link--base-color-inherit link--hover-color-none link--no-underline\" href=\"/s-ad/malvern-east/property-for-rent/whole-apartment-for-rental-monash-caulfield-suitble-to-1-2-people/1201305049\" id=\"user-ad-1201305049\"><div class=\"user-ad-row__image-column\"><div class=\"user-ad-row__main-image-wrapper user-ad-row__main-image-wrapper--has-image\"><img alt=\"Whole Apartment for rental-monash/caulfield-suitble to 1/2 people\" class=\"user-ad-row__image image image--is-hidden\" src=\"\"/></div></div><div class=\"user-ad-row__details\"><div class=\"user-ad-row__info\"><p class=\"user-ad-row__title\">Whole Apartment for rental-monash/caulfield-suitble to 1/2 people</p><div class=\"user-ad-price user-ad-price--row\"><span class=\"user-ad-price__price\">$250</span> <!-- --> <!-- --> <!-- --> <!-- --> <!-- --> <!-- --> </div><ul class=\"user-ad-attributes\"><li class=\"user-ad-attributes__attribute\">1 Bathroom</li><li class=\"user-ad-attributes__attribute\">1 Bedroom</li><li class=\"user-ad-attributes__attribute\">Apartment &amp; Unit</li></ul><p class=\"user-ad-row__description user-ad-row__description--regular\" id=\"user-ad-desc-MAIN-1201305049\">1 bed, 1 bathroom, own kitchen and desk!!! All furnished. You do NOT have to share any bathroom or kitchen with other people! Ideal apartment for a couple and people who long for quiet and comfortable environment to live, work and study. \n",
       " The room is clean and tidy without any mosquitoes. Crossing the road is very close to the Monash library. Around Commonwealth, Vodafone, and Coles are all within five minutes of walk. The tram/train station is very convenient also within five minutes walk.</p></div><div class=\"user-ad-row__extra-info\"><div class=\"user-ad-row__location\"><span class=\"user-ad-row__location-area\">Stonnington Area</span>Malvern East<span class=\"user-ad-row__distance\"> <!-- -->&lt; 2 km</span></div><p class=\"user-ad-row__age\">18/11/2018</p></div></div><button class=\"user-ad-row__watchlist-star-wrapper watchlist-star button button--none button--flexible button--rounded\" type=\"button\"><span aria-hidden=\"true\" class=\"\"><span class=\"icon-star icon-star user-ad-row__watchlist-star-icon\"></span></span></button></a>,\n",
       " <a aria-describedby=\"user-ad-desc-MAIN-1201198774\" aria-label=\"Student housing studio apartment in Caulfield East.\n",
       "         Price: $295 .\n",
       "         Location: Glen Eira Area, Caulfield East. Ad listed 17/11/2018.\" class=\"user-ad-row link link--base-color-inherit link--hover-color-none link--no-underline\" href=\"/s-ad/caulfield-east/property-for-rent/student-housing-studio-apartment-in-caulfield-east/1201198774\" id=\"user-ad-1201198774\"><div class=\"user-ad-row__image-column\"><div class=\"user-ad-row__main-image-wrapper user-ad-row__main-image-wrapper--has-image\"><img alt=\"Student housing studio apartment in Caulfield East\" class=\"user-ad-row__image image image--is-hidden\" src=\"\"/></div></div><div class=\"user-ad-row__details\"><div class=\"user-ad-row__info\"><p class=\"user-ad-row__title\">Student housing studio apartment in Caulfield East</p><div class=\"user-ad-price user-ad-price--row\"><span class=\"user-ad-price__price\">$295</span> <!-- --> <!-- --> <!-- --> <!-- --> <!-- --> <!-- --> </div><ul class=\"user-ad-attributes\"><li class=\"user-ad-attributes__attribute\">1 Bathroom</li><li class=\"user-ad-attributes__attribute\">Studio or Bachelor Pad</li><li class=\"user-ad-attributes__attribute\">Apartment &amp; Unit</li></ul><p class=\"user-ad-row__description user-ad-row__description--regular\" id=\"user-ad-desc-MAIN-1201198774\">Hey guys! I have a studio apartment unit up for rent that you can move in immediately up until February. It's a 6 minute walk (can be 3 if you run) from Monash Caulfield campus! It's super spacious and convenient. It's a full furnished student housing studio apartment, with a balcony. Gas is free, and you'll get an AC/heater. Message me for further details!</p></div><div class=\"user-ad-row__extra-info\"><div class=\"user-ad-row__location\"><span class=\"user-ad-row__location-area\">Glen Eira Area</span>Caulfield East<span class=\"user-ad-row__distance\"> <!-- -->&lt; 1 km</span></div><p class=\"user-ad-row__age\">17/11/2018</p></div></div><button class=\"user-ad-row__watchlist-star-wrapper watchlist-star button button--none button--flexible button--rounded\" type=\"button\"><span aria-hidden=\"true\" class=\"\"><span class=\"icon-star icon-star user-ad-row__watchlist-star-icon\"></span></span></button></a>,\n",
       " <a aria-describedby=\"user-ad-desc-MAIN-1201006050\" aria-label=\"Royal ave , Glen huntly , melbourne..\n",
       "         Price: $170 .\n",
       "         Location: Glen Eira Area, Glen Huntly. Ad listed 14/11/2018.\" class=\"user-ad-row link link--base-color-inherit link--hover-color-none link--no-underline\" href=\"/s-ad/glen-huntly/property-for-rent/royal-ave-glen-huntly-melbourne-/1201006050\" id=\"user-ad-1201006050\"><div class=\"user-ad-row__image-column\"><div class=\"user-ad-row__main-image-wrapper user-ad-row__main-image-wrapper--has-not-image\"><span aria-hidden=\"true\" class=\"user-ad-row__image-placeholder\"><span class=\"icon-logo-icon\"></span></span></div></div><div class=\"user-ad-row__details\"><div class=\"user-ad-row__info\"><p class=\"user-ad-row__title\">Royal ave , Glen huntly , melbourne.</p><div class=\"user-ad-price user-ad-price--row\"><span class=\"user-ad-price__price\">$170</span> <!-- --> <!-- --> <!-- --> <!-- --> <!-- --> <!-- --> </div><p class=\"user-ad-row__description user-ad-row__description--regular\" id=\"user-ad-desc-MAIN-1201006050\">Preferred Gender : Female \n",
       " 1 separate bed room is available for rent in 2bedroom apartment. \n",
       " Shared bath room and kitchen. Utilities included. \n",
       " Furnished. \n",
       " 5 mins walk to glen huntly station, shops and restaurants</p></div><div class=\"user-ad-row__extra-info\"><div class=\"user-ad-row__location\"><span class=\"user-ad-row__location-area\">Glen Eira Area</span>Glen Huntly<span class=\"user-ad-row__distance\"> <!-- -->&lt; 1 km</span></div><p class=\"user-ad-row__age\">14/11/2018</p></div></div><button class=\"user-ad-row__watchlist-star-wrapper watchlist-star button button--none button--flexible button--rounded\" type=\"button\"><span aria-hidden=\"true\" class=\"\"><span class=\"icon-star icon-star user-ad-row__watchlist-star-icon\"></span></span></button></a>,\n",
       " <a aria-describedby=\"user-ad-desc-MAIN-1200841890\" aria-label=\"Excellent renovation with Chadstone just a step away.\n",
       "         Price: $335 .\n",
       "         Location: Glen Eira Area, Murrumbeena. Ad listed 13/11/2018.\" class=\"user-ad-row link link--base-color-inherit link--hover-color-none link--no-underline\" href=\"/s-ad/murrumbeena/property-for-rent/excellent-renovation-with-chadstone-just-a-step-away/1200841890\" id=\"user-ad-1200841890\"><div class=\"user-ad-row__image-column\"><div class=\"user-ad-row__main-image-wrapper user-ad-row__main-image-wrapper--has-image\"><img alt=\"Excellent renovation with Chadstone just a step away\" class=\"user-ad-row__image image image--is-hidden\" src=\"\"/></div></div><div class=\"user-ad-row__details\"><div class=\"user-ad-row__info\"><p class=\"user-ad-row__title\">Excellent renovation with Chadstone just a step away</p><div class=\"user-ad-price user-ad-price--row\"><span class=\"user-ad-price__price\">$335</span> <!-- --> <!-- --> <!-- --> <!-- --> <!-- --> <!-- --> </div><ul class=\"user-ad-attributes\"><li class=\"user-ad-attributes__attribute\">Agency</li><li class=\"user-ad-attributes__attribute\">1 Bathroom</li><li class=\"user-ad-attributes__attribute\">1 Bedroom</li><li class=\"user-ad-attributes__attribute\">Apartment &amp; Unit</li></ul><p class=\"user-ad-row__description user-ad-row__description--regular\" id=\"user-ad-desc-MAIN-1200841890\">This beautifully recently renovated, spacious, single bedroom apartment is in a premium location within minutes to Chadstone shopping centre. \n",
       " Located in close proximity to the Koornang Road shopping district, supermarkets, parks and public transport, this property comprises a lounge room, separate brand new kitchen, bathroom with washing machine facilities. Featuring parquetry flooring throughout, car port and double glazed windows for extra quietness, this property is a must see! \n",
       " Contac</p></div><div class=\"user-ad-row__extra-info\"><div class=\"user-ad-row__location\"><span class=\"user-ad-row__location-area\">Glen Eira Area</span>Murrumbeena<span class=\"user-ad-row__distance\"> <!-- -->&lt; 3 km</span></div><p class=\"user-ad-row__age\">13/11/2018</p></div></div><button class=\"user-ad-row__watchlist-star-wrapper watchlist-star button button--none button--flexible button--rounded\" type=\"button\"><span aria-hidden=\"true\" class=\"\"><span class=\"icon-star icon-star user-ad-row__watchlist-star-icon\"></span></span></button></a>,\n",
       " <a aria-describedby=\"user-ad-desc-MAIN-1200824130\" aria-label=\"Apartment for rent (Caulfield East, 2/5 Dudley street).\n",
       "         Price: $1,217 .\n",
       "         Location: Glen Eira Area, Caulfield East. Ad listed 12/11/2018.\" class=\"user-ad-row link link--base-color-inherit link--hover-color-none link--no-underline\" href=\"/s-ad/caulfield-east/property-for-rent/apartment-for-rent-caulfield-east-2-5-dudley-street-/1200824130\" id=\"user-ad-1200824130\"><div class=\"user-ad-row__image-column\"><div class=\"user-ad-row__main-image-wrapper user-ad-row__main-image-wrapper--has-image\"><img alt=\"Apartment for rent (Caulfield East, 2/5 Dudley street)\" class=\"user-ad-row__image image image--is-hidden\" src=\"\"/></div></div><div class=\"user-ad-row__details\"><div class=\"user-ad-row__info\"><p class=\"user-ad-row__title\">Apartment for rent (Caulfield East, 2/5 Dudley street)</p><div class=\"user-ad-price user-ad-price--row\"><span class=\"user-ad-price__price\">$1,217</span> <!-- --> <!-- --> <!-- --> <!-- --> <!-- --> <!-- --> </div><ul class=\"user-ad-attributes\"><li class=\"user-ad-attributes__attribute\">Agency</li><li class=\"user-ad-attributes__attribute\">1 Bathroom</li><li class=\"user-ad-attributes__attribute\">Studio or Bachelor Pad</li><li class=\"user-ad-attributes__attribute\">Apartment &amp; Unit</li></ul><p class=\"user-ad-row__description user-ad-row__description--regular\" id=\"user-ad-desc-MAIN-1200824130\">I'm moving overseas and need someone to move into my studio apartment for atleast 1-2 months. It has 1 double bed only, Rent is $1217 per month iincludes rent, water and gas. electricity and internet are seperate. The apartment is very close to Monash University Caulfield campus. Step out of the door and you will see an open space of the beautiful park and across the park is Monash Uni. 5 minutes Walk will take you to the University, library, shops, food, supermarket, train station, and public</p></div><div class=\"user-ad-row__extra-info\"><div class=\"user-ad-row__location\"><span class=\"user-ad-row__location-area\">Glen Eira Area</span>Caulfield East<span class=\"user-ad-row__distance\"> <!-- -->&lt; 1 km</span></div><p class=\"user-ad-row__age\">12/11/2018</p></div></div><button class=\"user-ad-row__watchlist-star-wrapper watchlist-star button button--none button--flexible button--rounded\" type=\"button\"><span aria-hidden=\"true\" class=\"\"><span class=\"icon-star icon-star user-ad-row__watchlist-star-icon\"></span></span></button></a>,\n",
       " <a aria-describedby=\"user-ad-desc-MAIN-1199632215\" aria-label=\"Temporary Student Accommodation - 300pw.\n",
       "         Price: $300 .\n",
       "         Location: Glen Eira Area, Caulfield East. Ad listed 31/10/2018.\" class=\"user-ad-row link link--base-color-inherit link--hover-color-none link--no-underline\" href=\"/s-ad/caulfield-east/property-for-rent/temporary-student-accommodation-300pw/1199632215\" id=\"user-ad-1199632215\"><div class=\"user-ad-row__image-column\"><div class=\"user-ad-row__main-image-wrapper user-ad-row__main-image-wrapper--has-not-image\"><span aria-hidden=\"true\" class=\"user-ad-row__image-placeholder\"><span class=\"icon-logo-icon\"></span></span></div></div><div class=\"user-ad-row__details\"><div class=\"user-ad-row__info\"><p class=\"user-ad-row__title\">Temporary Student Accommodation - 300pw</p><div class=\"user-ad-price user-ad-price--row\"><span class=\"user-ad-price__price\">$300</span> <!-- --> <!-- --> <!-- --> <!-- --> <!-- --> <!-- --> </div><ul class=\"user-ad-attributes\"><li class=\"user-ad-attributes__attribute\">Agency</li><li class=\"user-ad-attributes__attribute\">Studio or Bachelor Pad</li><li class=\"user-ad-attributes__attribute\">Apartment &amp; Unit</li></ul><p class=\"user-ad-row__description user-ad-row__description--regular\" id=\"user-ad-desc-MAIN-1199632215\">Studio apartment for two months with carpark. There is a clean and big communal laundry available. Perfect student accommodation. Opposite Monash Caulfield. Walking distance to public transport. </p></div><div class=\"user-ad-row__extra-info\"><div class=\"user-ad-row__location\"><span class=\"user-ad-row__location-area\">Glen Eira Area</span>Caulfield East<span class=\"user-ad-row__distance\"> </span></div><p class=\"user-ad-row__age\">31/10/2018</p></div></div><button class=\"user-ad-row__watchlist-star-wrapper watchlist-star button button--none button--flexible button--rounded\" type=\"button\"><span aria-hidden=\"true\" class=\"\"><span class=\"icon-star icon-star user-ad-row__watchlist-star-icon\"></span></span></button></a>,\n",
       " <a aria-describedby=\"user-ad-desc-MAIN-1199493724\" aria-label=\"8/51 KHARTOUM STREET, CAULFIELD NORTH - LIGHT, BRIGHT 2 BEDROOM!.\n",
       "         Price: $390 .\n",
       "         Location: Glen Eira Area, Caulfield North. Ad listed 30/10/2018.\" class=\"user-ad-row link link--base-color-inherit link--hover-color-none link--no-underline\" href=\"/s-ad/caulfield-north/property-for-rent/8-51-khartoum-street-caulfield-north-light-bright-2-bedroom-/1199493724\" id=\"user-ad-1199493724\"><div class=\"user-ad-row__image-column\"><div class=\"user-ad-row__main-image-wrapper user-ad-row__main-image-wrapper--has-image\"><img alt=\"8/51 KHARTOUM STREET, CAULFIELD NORTH - LIGHT, BRIGHT 2 BEDROOM!\" class=\"user-ad-row__image image image--is-hidden\" src=\"\"/></div></div><div class=\"user-ad-row__details\"><div class=\"user-ad-row__info\"><p class=\"user-ad-row__title\">8/51 KHARTOUM STREET, CAULFIELD NORTH - LIGHT, BRIGHT 2 BEDROOM!</p><div class=\"user-ad-price user-ad-price--row\"><span class=\"user-ad-price__price\">$390</span> <!-- --> <!-- --> <!-- --> <!-- --> <!-- --> <!-- --> </div><ul class=\"user-ad-attributes\"><li class=\"user-ad-attributes__attribute\">Agency</li><li class=\"user-ad-attributes__attribute\">1 Bathroom</li><li class=\"user-ad-attributes__attribute\">2 Bedrooms</li><li class=\"user-ad-attributes__attribute\">Apartment &amp; Unit</li></ul><p class=\"user-ad-row__description user-ad-row__description--regular\" id=\"user-ad-desc-MAIN-1199493724\">Set right towards the rear of the block, this elevated first floor apartment is both peaceful &amp; private. Consists of a central living room with TV unit &amp; bookshelf, split system heating/cooling, separate kitchen with gas cooking, dishwasher, lots of cupboard space &amp; second sun balcony, extra large main bedroom with built in robes, second spacious bedroom with built in robes, central bathroom with separate shower &amp; bath, separate toilet, &amp; laundry facilities including washing machine, private </p></div><div class=\"user-ad-row__extra-info\"><div class=\"user-ad-row__location\"><span class=\"user-ad-row__location-area\">Glen Eira Area</span>Caulfield North<span class=\"user-ad-row__distance\"> <!-- -->&lt; 2 km</span></div><p class=\"user-ad-row__age\">30/10/2018</p></div></div><button class=\"user-ad-row__watchlist-star-wrapper watchlist-star button button--none button--flexible button--rounded\" type=\"button\"><span aria-hidden=\"true\" class=\"\"><span class=\"icon-star icon-star user-ad-row__watchlist-star-icon\"></span></span></button></a>,\n",
       " <a aria-describedby=\"user-ad-desc-MAIN-1199053373\" aria-label=\"5/399 KOOYONG ROAD, ELSTERNWICK - ONE BEDROOM APARTMENT FOR LEASE.\n",
       "         Price: $280 .\n",
       "         Location: Glen Eira Area, Elsternwick. Ad listed 25/10/2018.\" class=\"user-ad-row link link--base-color-inherit link--hover-color-none link--no-underline\" href=\"/s-ad/elsternwick/property-for-rent/5-399-kooyong-road-elsternwick-one-bedroom-apartment-for-lease/1199053373\" id=\"user-ad-1199053373\"><div class=\"user-ad-row__image-column\"><div class=\"user-ad-row__main-image-wrapper user-ad-row__main-image-wrapper--has-image\"><img alt=\"5/399 KOOYONG ROAD, ELSTERNWICK - ONE BEDROOM APARTMENT FOR LEASE\" class=\"user-ad-row__image image image--is-hidden\" src=\"\"/></div></div><div class=\"user-ad-row__details\"><div class=\"user-ad-row__info\"><p class=\"user-ad-row__title\">5/399 KOOYONG ROAD, ELSTERNWICK - ONE BEDROOM APARTMENT FOR LEASE</p><div class=\"user-ad-price user-ad-price--row\"><span class=\"user-ad-price__price\">$280</span> <!-- --> <!-- --> <!-- --> <!-- --> <!-- --> <!-- --> </div><ul class=\"user-ad-attributes\"><li class=\"user-ad-attributes__attribute\">Agency</li><li class=\"user-ad-attributes__attribute\">1 Bathroom</li><li class=\"user-ad-attributes__attribute\">1 Bedroom</li><li class=\"user-ad-attributes__attribute\">Apartment &amp; Unit</li></ul><p class=\"user-ad-row__description user-ad-row__description--regular\" id=\"user-ad-desc-MAIN-1199053373\">***IMPORTANT REGISTER TO INSPECT PROPERTIES *** \n",
       " This one bedroom apartment comprises of: living room with floorboards, separate kitchen with electric cooking and plenty of cupboard space, bedroom with floorboards and ensuite style bathroom with shower over bath. Communal coin operated laundry and off street parking for one under carport. Located on the corner with the entrance to the apartment in Hartington St, this apartment is conveniently located for access to public transport and Glenhu</p></div><div class=\"user-ad-row__extra-info\"><div class=\"user-ad-row__location\"><span class=\"user-ad-row__location-area\">Glen Eira Area</span>Elsternwick<span class=\"user-ad-row__distance\"> <!-- -->&lt; 3 km</span></div><p class=\"user-ad-row__age\">25/10/2018</p></div></div><button class=\"user-ad-row__watchlist-star-wrapper watchlist-star button button--none button--flexible button--rounded\" type=\"button\"><span aria-hidden=\"true\" class=\"\"><span class=\"icon-star icon-star user-ad-row__watchlist-star-icon\"></span></span></button></a>,\n",
       " <a aria-describedby=\"user-ad-desc-MAIN-1196871185\" aria-label=\"GIGANTIC -RECENTLY RENOVATED - 2 BEDROOM APARTMENT.\n",
       "         Price: $445 .\n",
       "         Location: Glen Eira Area, Caulfield North. Ad listed 02/10/2018.\" class=\"user-ad-row link link--base-color-inherit link--hover-color-none link--no-underline\" href=\"/s-ad/caulfield-north/property-for-rent/gigantic-recently-renovated-2-bedroom-apartment/1196871185\" id=\"user-ad-1196871185\"><div class=\"user-ad-row__image-column\"><div class=\"user-ad-row__main-image-wrapper user-ad-row__main-image-wrapper--has-image\"><img alt=\"GIGANTIC -RECENTLY RENOVATED - 2 BEDROOM APARTMENT\" class=\"user-ad-row__image image image--is-hidden\" src=\"\"/></div></div><div class=\"user-ad-row__details\"><div class=\"user-ad-row__info\"><p class=\"user-ad-row__title\">GIGANTIC -RECENTLY RENOVATED - 2 BEDROOM APARTMENT</p><div class=\"user-ad-price user-ad-price--row\"><span class=\"user-ad-price__price\">$445</span> <!-- --> <!-- --> <!-- --> <!-- --> <!-- --> <!-- --> </div><ul class=\"user-ad-attributes\"><li class=\"user-ad-attributes__attribute\">Agency</li><li class=\"user-ad-attributes__attribute\">1 Bathroom</li><li class=\"user-ad-attributes__attribute\">2 Bedrooms</li><li class=\"user-ad-attributes__attribute\">Apartment &amp; Unit</li></ul><p class=\"user-ad-row__description user-ad-row__description--regular\" id=\"user-ad-desc-MAIN-1196871185\">Simply HUGE, very bright and stunningly renovated 2 bedroom apartment in a great location close to transport which will take you directly into the CBD &amp; Glenferrie Road Shopping Precincts. \n",
       " Separate living area with new gas heater, recently re-painted throughout, polished timber floors, new laundry with washing machine and dryer, large kitchen with gas cooking. \n",
       " THIS IS REALLY A MUST SEE APARTMENT!</p></div><div class=\"user-ad-row__extra-info\"><div class=\"user-ad-row__location\"><span class=\"user-ad-row__location-area\">Glen Eira Area</span>Caulfield North<span class=\"user-ad-row__distance\"> <!-- -->&lt; 1 km</span></div><p class=\"user-ad-row__age\">02/10/2018</p></div></div><button class=\"user-ad-row__watchlist-star-wrapper watchlist-star button button--none button--flexible button--rounded\" type=\"button\"><span aria-hidden=\"true\" class=\"\"><span class=\"icon-star icon-star user-ad-row__watchlist-star-icon\"></span></span></button></a>,\n",
       " <a aria-describedby=\"user-ad-desc-MAIN-1114673363\" aria-label=\"3 BEDROOM  FURN AND 2 BED FURN APARTMENTS  Nr CHAPEL ST  &amp; MONASH.\n",
       "         Price: $560 .\n",
       "         Location: Melbourne Region, Glen Eira Area. Ad listed 29/06/2018.\" class=\"user-ad-row link link--base-color-inherit link--hover-color-none link--no-underline\" href=\"/s-ad/glen-eira-area/property-for-rent/3-bedroom-furn-and-2-bed-furn-apartments-nr-chapel-st-monash/1114673363\" id=\"user-ad-1114673363\"><div class=\"user-ad-row__image-column\"><div class=\"user-ad-row__main-image-wrapper user-ad-row__main-image-wrapper--has-image\"><img alt=\"3 BEDROOM  FURN AND 2 BED FURN APARTMENTS  Nr CHAPEL ST  &amp; MONASH\" class=\"user-ad-row__image image image--is-hidden\" src=\"\"/></div></div><div class=\"user-ad-row__details\"><div class=\"user-ad-row__info\"><p class=\"user-ad-row__title\">3 BEDROOM  FURN AND 2 BED FURN APARTMENTS  Nr CHAPEL ST  &amp; MONASH</p><div class=\"user-ad-price user-ad-price--row\"><span class=\"user-ad-price__price\">$560</span> <!-- --> <!-- --> <!-- --> <!-- --> <!-- --> <!-- --> </div><ul class=\"user-ad-attributes\"><li class=\"user-ad-attributes__attribute\">1 Bathroom</li><li class=\"user-ad-attributes__attribute\">3 Bedrooms</li><li class=\"user-ad-attributes__attribute\">Apartment &amp; Unit</li></ul><p class=\"user-ad-row__description user-ad-row__description--regular\" id=\"user-ad-desc-MAIN-1114673363\">2 APARTMENTS TO LET AVAILABLE 27TH DECEMBER &amp; 19TH DECEMBER ----------------------------------------------- \n",
       " 3 BEDROOM FURN AVAIL 19TH DECEMBER AND 2 BED FURN APARTMENTS Nr CHAPEL ST &amp; MONASH 2 BEDROOM FURN RENT $449PLUS BILLS 10/77 HOTHAM ST BALACLAVA AVAIL 27TH DECEMBER -------------------------------------------------------------------------------------------------------------------- DESCRIPTION 3 BED FURN APARTMENT RENT $560/WK PLUS BILLS 3/19 CANTALA AVE CAULFIELD EA</p></div><div class=\"user-ad-row__extra-info\"><div class=\"user-ad-row__location\"><span class=\"user-ad-row__location-area\">Melbourne Region</span>Glen Eira Area<span class=\"user-ad-row__distance\"> <!-- -->&lt; 2 km</span></div><p class=\"user-ad-row__age\">29/06/2018</p></div></div><button class=\"user-ad-row__watchlist-star-wrapper watchlist-star button button--none button--flexible button--rounded\" type=\"button\"><span aria-hidden=\"true\" class=\"\"><span class=\"icon-star icon-star user-ad-row__watchlist-star-icon\"></span></span></button></a>,\n",
       " <a aria-describedby=\"user-ad-desc-ALTERNATIVE-1201849206\" aria-label=\"Lease transfer: 2 bed 1 bath Glen Iris.\n",
       "         Price: $430 .\n",
       "         Location: Stonnington Area, Malvern. Ad listed 23/11/2018.\" class=\"user-ad-row link link--base-color-inherit link--hover-color-none link--no-underline\" href=\"/s-ad/malvern/property-for-rent/lease-transfer-2-bed-1-bath-glen-iris/1201849206\" id=\"user-ad-1201849206\"><div class=\"user-ad-row__image-column\"><div class=\"user-ad-row__main-image-wrapper user-ad-row__main-image-wrapper--has-not-image\"><span aria-hidden=\"true\" class=\"user-ad-row__image-placeholder\"><span class=\"icon-logo-icon\"></span></span></div></div><div class=\"user-ad-row__details\"><div class=\"user-ad-row__info\"><p class=\"user-ad-row__title\">Lease transfer: 2 bed 1 bath Glen Iris</p><div class=\"user-ad-price user-ad-price--row\"><span class=\"user-ad-price__price\">$430</span> <!-- --> <!-- --> <!-- --> <!-- --> <!-- --> <!-- --> </div><ul class=\"user-ad-attributes\"><li class=\"user-ad-attributes__attribute\">1 Bathroom</li><li class=\"user-ad-attributes__attribute\">2 Bedrooms</li><li class=\"user-ad-attributes__attribute\">Apartment &amp; Unit</li></ul><p class=\"user-ad-row__description user-ad-row__description--regular\" id=\"user-ad-desc-ALTERNATIVE-1201849206\">2 bedroom apartment for rent on Malvern Road - right next to Gardiner station **25 mins to CBD 72 # Tram from CBD to Camberwell Next to M1 - Bourke road exits Malvern Primary/ Glen Iris Primary / Auburn High schools zone Malvern Road restaurants and Coles Supermarket Tooronga North facing elevated apartment has privacy, lots of natural sunlight, timber flooring, split AC and Gas Cooktop. Ample storage BIR in all rooms &amp; spacious bedrooms. \n",
       " Suits short term or long term tenants looking</p></div><div class=\"user-ad-row__extra-info\"><div class=\"user-ad-row__location\"><span class=\"user-ad-row__location-area\">Stonnington Area</span>Malvern<span class=\"user-ad-row__distance\"> <!-- -->&lt; 3 km</span></div><p class=\"user-ad-row__age\">23/11/2018</p></div></div><button class=\"user-ad-row__watchlist-star-wrapper watchlist-star button button--none button--flexible button--rounded\" type=\"button\"><span aria-hidden=\"true\" class=\"\"><span class=\"icon-star icon-star user-ad-row__watchlist-star-icon\"></span></span></button></a>,\n",
       " <a aria-describedby=\"user-ad-desc-ALTERNATIVE-1201657013\" aria-label=\"GRAND RENOVATION! GREAT LIVING!.\n",
       "         Price: $340 .\n",
       "         Location: Stonnington Area, Malvern. Ad listed 21/11/2018.\" class=\"user-ad-row link link--base-color-inherit link--hover-color-none link--no-underline\" href=\"/s-ad/malvern/property-for-rent/grand-renovation-great-living-/1201657013\" id=\"user-ad-1201657013\"><div class=\"user-ad-row__image-column\"><div class=\"user-ad-row__main-image-wrapper user-ad-row__main-image-wrapper--has-image\"><img alt=\"GRAND RENOVATION! GREAT LIVING!\" class=\"user-ad-row__image image image--is-hidden\" src=\"\"/></div></div><div class=\"user-ad-row__details\"><div class=\"user-ad-row__info\"><p class=\"user-ad-row__title\">GRAND RENOVATION! GREAT LIVING!</p><div class=\"user-ad-price user-ad-price--row\"><span class=\"user-ad-price__price\">$340</span> <!-- --> <!-- --> <!-- --> <!-- --> <!-- --> <!-- --> </div><ul class=\"user-ad-attributes\"><li class=\"user-ad-attributes__attribute\">Agency</li><li class=\"user-ad-attributes__attribute\">1 Bathroom</li><li class=\"user-ad-attributes__attribute\">1 Bedroom</li><li class=\"user-ad-attributes__attribute\">Apartment &amp; Unit</li></ul><p class=\"user-ad-row__description user-ad-row__description--regular\" id=\"user-ad-desc-ALTERNATIVE-1201657013\">A wonderful, recently fully renovated single bedroom apartment, located close to all amenities, shops, transport, parks and a short stroll to Monash University. \n",
       " Features include: new painting throughout, luxurious parquetry to all living areas, brand new cupboards, stove, range hood, fully renovated bathroom with laundry facilities and to that New blinds and undercover parking, this apartment is a gem in an amazing location. \n",
       " WITH EVERYTHING THAT NEW, IT’S JUST WAITING FOR A NEW TENANT!</p></div><div class=\"user-ad-row__extra-info\"><div class=\"user-ad-row__location\"><span class=\"user-ad-row__location-area\">Stonnington Area</span>Malvern<span class=\"user-ad-row__distance\"> <!-- -->&lt; 3 km</span></div><p class=\"user-ad-row__age\">21/11/2018</p></div></div><button class=\"user-ad-row__watchlist-star-wrapper watchlist-star button button--none button--flexible button--rounded\" type=\"button\"><span aria-hidden=\"true\" class=\"\"><span class=\"icon-star icon-star user-ad-row__watchlist-star-icon\"></span></span></button></a>,\n",
       " <a aria-describedby=\"user-ad-desc-ALTERNATIVE-1201083155\" aria-label=\"A bedroom available from 12.5 to 3.3.\n",
       "         Price: $240 .\n",
       "         Location: Boroondara Area, Glen Iris. Ad listed 15/11/2018.\" class=\"user-ad-row link link--base-color-inherit link--hover-color-none link--no-underline\" href=\"/s-ad/glen-iris/property-for-rent/a-bedroom-available-from-12-5-to-3-3/1201083155\" id=\"user-ad-1201083155\"><div class=\"user-ad-row__image-column\"><div class=\"user-ad-row__main-image-wrapper user-ad-row__main-image-wrapper--has-image\"><img alt=\"A bedroom available from 12.5 to 3.3\" class=\"user-ad-row__image image image--is-hidden\" src=\"\"/></div></div><div class=\"user-ad-row__details\"><div class=\"user-ad-row__info\"><p class=\"user-ad-row__title\">A bedroom available from 12.5 to 3.3</p><div class=\"user-ad-price user-ad-price--row\"><span class=\"user-ad-price__price\">$240</span> <!-- --> <!-- --> <!-- --> <!-- --> <!-- --> <!-- --> </div><ul class=\"user-ad-attributes\"><li class=\"user-ad-attributes__attribute\">1 Bathroom</li><li class=\"user-ad-attributes__attribute\">1 Bedroom</li><li class=\"user-ad-attributes__attribute\">Apartment &amp; Unit</li></ul><p class=\"user-ad-row__description user-ad-row__description--regular\" id=\"user-ad-desc-ALTERNATIVE-1201083155\">My bedroom available from 12.5 to 3.3. It has a single bed and other furniture in my apartment, my roommate is a very kind girl will still live here. Our apartment is a very convince place for people taking trains, tram or bus. Furthermore, female only for this rent. If the price is too high for you, you can send me messages and communicate the price or anything.</p></div><div class=\"user-ad-row__extra-info\"><div class=\"user-ad-row__location\"><span class=\"user-ad-row__location-area\">Boroondara Area</span>Glen Iris<span class=\"user-ad-row__distance\"> <!-- -->&lt; 3 km</span></div><p class=\"user-ad-row__age\">15/11/2018</p></div></div><button class=\"user-ad-row__watchlist-star-wrapper watchlist-star button button--none button--flexible button--rounded\" type=\"button\"><span aria-hidden=\"true\" class=\"\"><span class=\"icon-star icon-star user-ad-row__watchlist-star-icon\"></span></span></button></a>,\n",
       " <a aria-describedby=\"user-ad-desc-ALTERNATIVE-1202514291\" aria-label=\"Apartment for Rent.\n",
       "         Price: $575 .\n",
       "         Location: Boroondara Area, Glen Iris. Ad listed 21 hours ago.\" class=\"user-ad-row link link--base-color-inherit link--hover-color-none link--no-underline\" href=\"/s-ad/glen-iris/property-for-rent/apartment-for-rent/1202514291\" id=\"user-ad-1202514291\"><div class=\"user-ad-row__image-column\"><div class=\"user-ad-row__main-image-wrapper user-ad-row__main-image-wrapper--has-image\"><img alt=\"Apartment for Rent\" class=\"user-ad-row__image image image--is-hidden\" src=\"\"/></div></div><div class=\"user-ad-row__details\"><div class=\"user-ad-row__info\"><p class=\"user-ad-row__title\">Apartment for Rent</p><div class=\"user-ad-price user-ad-price--row\"><span class=\"user-ad-price__price\">$575</span> <!-- --> <!-- --> <!-- --> <!-- --> <!-- --> <!-- --> </div><ul class=\"user-ad-attributes\"><li class=\"user-ad-attributes__attribute\">2 Bedrooms</li><li class=\"user-ad-attributes__attribute\">Apartment &amp; Unit</li></ul><p class=\"user-ad-row__description user-ad-row__description--regular\" id=\"user-ad-desc-ALTERNATIVE-1202514291\">High end finishes &amp; luxury features include: Front loader washing machine &amp; Dryer Open plan living Heating and cooling Wool carpets Fully equipped chef's kitchen including marble benchtops and Miele appliances Floor to ceiling windows Ceiling height 2700mm Natural stones &amp; timbers Flexible floor plans Car secure space Storage Cage Communal facilities include a stunning rooftop terrace, outdoor kitchen with BBQ plates. \n",
       " Location: Only 10km from Melbourne CBD Close to cafe</p></div><div class=\"user-ad-row__extra-info\"><div class=\"user-ad-row__location\"><span class=\"user-ad-row__location-area\">Boroondara Area</span>Glen Iris<span class=\"user-ad-row__distance\"> <!-- -->&lt; 3 km</span></div><p class=\"user-ad-row__age\">21 hours ago</p></div></div><button class=\"user-ad-row__watchlist-star-wrapper watchlist-star button button--none button--flexible button--rounded\" type=\"button\"><span aria-hidden=\"true\" class=\"\"><span class=\"icon-star icon-star user-ad-row__watchlist-star-icon\"></span></span></button></a>,\n",
       " <a aria-describedby=\"user-ad-desc-ALTERNATIVE-1200355459\" aria-label=\"2/49 LANTANA ROAD ELSTERNWICK - 2 BEDROOM APARTMENT FOR LEASE.\n",
       "         Price: $350 .\n",
       "         Location: Glen Eira Area, Gardenvale. Ad listed 08/11/2018.\" class=\"user-ad-row link link--base-color-inherit link--hover-color-none link--no-underline\" href=\"/s-ad/gardenvale/property-for-rent/2-49-lantana-road-elsternwick-2-bedroom-apartment-for-lease/1200355459\" id=\"user-ad-1200355459\"><div class=\"user-ad-row__image-column\"><div class=\"user-ad-row__main-image-wrapper user-ad-row__main-image-wrapper--has-image\"><img alt=\"2/49 LANTANA ROAD ELSTERNWICK - 2 BEDROOM APARTMENT FOR LEASE\" class=\"user-ad-row__image image image--is-hidden\" src=\"\"/></div></div><div class=\"user-ad-row__details\"><div class=\"user-ad-row__info\"><p class=\"user-ad-row__title\">2/49 LANTANA ROAD ELSTERNWICK - 2 BEDROOM APARTMENT FOR LEASE</p><div class=\"user-ad-price user-ad-price--row\"><span class=\"user-ad-price__price\">$350</span> <!-- --> <!-- --> <!-- --> <!-- --> <!-- --> <!-- --> </div><ul class=\"user-ad-attributes\"><li class=\"user-ad-attributes__attribute\">Agency</li><li class=\"user-ad-attributes__attribute\">1 Bathroom</li><li class=\"user-ad-attributes__attribute\">2 Bedrooms</li><li class=\"user-ad-attributes__attribute\">Apartment &amp; Unit</li></ul><p class=\"user-ad-row__description user-ad-row__description--regular\" id=\"user-ad-desc-ALTERNATIVE-1200355459\">***IMPORTANT REGISTER TO INSPECT PROPERTIES *** This lovely two bedroom apartment on the ground floor has been beautifully updated and situated close to Gardenvale Shopping Centre, and transport. Comprises of open plan living, kitchen with meals area, electric cooking, main bedroom with BIR and separate bathroom. New carpet to be installed in living and bedrooms, communal laundry and off street under cover parking, a must to inspect. \n",
       " *** BOOK ONLINE NOW TO INSPECT *** Simply click ‘EMAIL</p></div><div class=\"user-ad-row__extra-info\"><div class=\"user-ad-row__location\"><span class=\"user-ad-row__location-area\">Glen Eira Area</span>Gardenvale<span class=\"user-ad-row__distance\"> <!-- -->&lt; 3 km</span></div><p class=\"user-ad-row__age\">08/11/2018</p></div></div><button class=\"user-ad-row__watchlist-star-wrapper watchlist-star button button--none button--flexible button--rounded\" type=\"button\"><span aria-hidden=\"true\" class=\"\"><span class=\"icon-star icon-star user-ad-row__watchlist-star-icon\"></span></span></button></a>,\n",
       " <a aria-describedby=\"user-ad-desc-ALTERNATIVE-1193774302\" aria-label=\"10/37 Nepean Highway, Elsternwick - FURNISHED 1 BEDROOM APARTMENT.\n",
       "         Price: $400 .\n",
       "         Location: Glen Eira Area, Elsternwick. Ad listed 29/08/2018.\" class=\"user-ad-row link link--base-color-inherit link--hover-color-none link--no-underline\" href=\"/s-ad/elsternwick/property-for-rent/10-37-nepean-highway-elsternwick-furnished-1-bedroom-apartment/1193774302\" id=\"user-ad-1193774302\"><div class=\"user-ad-row__image-column\"><div class=\"user-ad-row__main-image-wrapper user-ad-row__main-image-wrapper--has-image\"><img alt=\"10/37 Nepean Highway, Elsternwick - FURNISHED 1 BEDROOM APARTMENT\" class=\"user-ad-row__image image image--is-hidden\" src=\"\"/></div></div><div class=\"user-ad-row__details\"><div class=\"user-ad-row__info\"><p class=\"user-ad-row__title\">10/37 Nepean Highway, Elsternwick - FURNISHED 1 BEDROOM APARTMENT</p><div class=\"user-ad-price user-ad-price--row\"><span class=\"user-ad-price__price\">$400</span> <!-- --> <!-- --> <!-- --> <!-- --> <!-- --> <!-- --> </div><ul class=\"user-ad-attributes\"><li class=\"user-ad-attributes__attribute\">Agency</li><li class=\"user-ad-attributes__attribute\">1 Bathroom</li><li class=\"user-ad-attributes__attribute\">1 Bedroom</li><li class=\"user-ad-attributes__attribute\">Apartment &amp; Unit</li></ul><p class=\"user-ad-row__description user-ad-row__description--regular\" id=\"user-ad-desc-ALTERNATIVE-1193774302\">If unique is what you seek, then this super-spacious one-bedroom apartment sure fits the bill. Completely separate living and dining rooms are two of the standout features. A reverse-cycle air conditioner, modern ensuite bathroom and a refurbished kitchen with dishwasher and washing machine taps are further highlights. And if that weren't enough to tempt you, there's plentiful space to relax, barbeque and catch up with friends in the courtyard, which doubles up as a secure off-street car spac</p></div><div class=\"user-ad-row__extra-info\"><div class=\"user-ad-row__location\"><span class=\"user-ad-row__location-area\">Glen Eira Area</span>Elsternwick<span class=\"user-ad-row__distance\"> <!-- -->&lt; 3 km</span></div><p class=\"user-ad-row__age\">29/08/2018</p></div></div><button class=\"user-ad-row__watchlist-star-wrapper watchlist-star button button--none button--flexible button--rounded\" type=\"button\"><span aria-hidden=\"true\" class=\"\"><span class=\"icon-star icon-star user-ad-row__watchlist-star-icon\"></span></span></button></a>,\n",
       " <a aria-describedby=\"user-ad-desc-ALTERNATIVE-1202393929\" aria-label=\"1 bedroom apartment for lease in Armdale.\n",
       "         Price: $350 .\n",
       "         Location: Stonnington Area, Armadale. Ad listed 28/11/2018.\" class=\"user-ad-row link link--base-color-inherit link--hover-color-none link--no-underline\" href=\"/s-ad/armadale/property-for-rent/1-bedroom-apartment-for-lease-in-armdale/1202393929\" id=\"user-ad-1202393929\"><div class=\"user-ad-row__image-column\"><div class=\"user-ad-row__main-image-wrapper user-ad-row__main-image-wrapper--has-image\"><img alt=\"1 bedroom apartment for lease in Armdale\" class=\"user-ad-row__image image image--is-hidden\" src=\"\"/></div></div><div class=\"user-ad-row__details\"><div class=\"user-ad-row__info\"><p class=\"user-ad-row__title\">1 bedroom apartment for lease in Armdale</p><div class=\"user-ad-price user-ad-price--row\"><span class=\"user-ad-price__price\">$350</span> <!-- --> <!-- --> <!-- --> <!-- --> <!-- --> <!-- --> </div><ul class=\"user-ad-attributes\"><li class=\"user-ad-attributes__attribute\">1 Bathroom</li><li class=\"user-ad-attributes__attribute\">1 Bedroom</li><li class=\"user-ad-attributes__attribute\">Apartment &amp; Unit</li></ul><p class=\"user-ad-row__description user-ad-row__description--regular\" id=\"user-ad-desc-ALTERNATIVE-1202393929\">Located on the 2nd floor on Kooyong Rd, Armdale \n",
       " This well presented one bedroom apartment will be available for lease commencing 17 Dec 2018. It has a small balcony and is less than 5 min walk to train (Armadale Station), tram and bus. 10 min walk to Glenferrie Rd and Malvern Shopping Centre. \n",
       " It has high ceiling, equipped with air con, and stainless steel kitchen appliances \n",
       " MInimum lease period is one year with monthly rental of $1517.00 ($350.00 per week). Shorter term lease is negot</p></div><div class=\"user-ad-row__extra-info\"><div class=\"user-ad-row__location\"><span class=\"user-ad-row__location-area\">Stonnington Area</span>Armadale<span class=\"user-ad-row__distance\"> <!-- -->&lt; 3 km</span></div><p class=\"user-ad-row__age\">28/11/2018</p></div></div><button class=\"user-ad-row__watchlist-star-wrapper watchlist-star button button--none button--flexible button--rounded\" type=\"button\"><span aria-hidden=\"true\" class=\"\"><span class=\"icon-star icon-star user-ad-row__watchlist-star-icon\"></span></span></button></a>,\n",
       " <a aria-describedby=\"user-ad-desc-ALTERNATIVE-1200850966\" aria-label=\"3/2 Armadale Street, Armadale - Spacious One Bedroom Apartment!.\n",
       "         Price: $360 .\n",
       "         Location: Stonnington Area, Armadale. Ad listed 13/11/2018.\" class=\"user-ad-row link link--base-color-inherit link--hover-color-none link--no-underline\" href=\"/s-ad/armadale/property-for-rent/3-2-armadale-street-armadale-spacious-one-bedroom-apartment-/1200850966\" id=\"user-ad-1200850966\"><div class=\"user-ad-row__image-column\"><div class=\"user-ad-row__main-image-wrapper user-ad-row__main-image-wrapper--has-image\"><img alt=\"3/2 Armadale Street, Armadale - Spacious One Bedroom Apartment!\" class=\"user-ad-row__image image image--is-hidden\" src=\"\"/></div></div><div class=\"user-ad-row__details\"><div class=\"user-ad-row__info\"><p class=\"user-ad-row__title\">3/2 Armadale Street, Armadale - Spacious One Bedroom Apartment!</p><div class=\"user-ad-price user-ad-price--row\"><span class=\"user-ad-price__price\">$360</span> <!-- --> <!-- --> <!-- --> <!-- --> <!-- --> <!-- --> </div><ul class=\"user-ad-attributes\"><li class=\"user-ad-attributes__attribute\">Agency</li><li class=\"user-ad-attributes__attribute\">1 Bathroom</li><li class=\"user-ad-attributes__attribute\">1 Bedroom</li><li class=\"user-ad-attributes__attribute\">Apartment &amp; Unit</li></ul><p class=\"user-ad-row__description user-ad-row__description--regular\" id=\"user-ad-desc-ALTERNATIVE-1200850966\">This stunning ground floor apartment offers the best of everything. Features of this gorgeous apartment include lounge with electric heating and french doors leading to a private patio, sparkling open plan kitchen with gas hot plates, electric oven and polished floorboards, wall to wall carpets throughout, master bedroom with mirrored built in robes and balcony, ensuite style bathroom with laundry taps and secure parking. Add to this a great location and being close to shops and transport t</p></div><div class=\"user-ad-row__extra-info\"><div class=\"user-ad-row__location\"><span class=\"user-ad-row__location-area\">Stonnington Area</span>Armadale<span class=\"user-ad-row__distance\"> <!-- -->&lt; 3 km</span></div><p class=\"user-ad-row__age\">13/11/2018</p></div></div><button class=\"user-ad-row__watchlist-star-wrapper watchlist-star button button--none button--flexible button--rounded\" type=\"button\"><span aria-hidden=\"true\" class=\"\"><span class=\"icon-star icon-star user-ad-row__watchlist-star-icon\"></span></span></button></a>,\n",
       " <a aria-describedby=\"user-ad-desc-ALTERNATIVE-1188938005\" aria-label=\"2 BEDRM RENOVATED   CLOSE ST KILDA CHAPEL  ST TRAIN &amp; TRAM.\n",
       "         Price: $449 .\n",
       "         Location: Stonnington Area, Armadale. Ad listed Yesterday.\" class=\"user-ad-row link link--base-color-inherit link--hover-color-none link--no-underline\" href=\"/s-ad/armadale/property-for-rent/2-bedrm-renovated-close-st-kilda-chapel-st-train-tram/1188938005\" id=\"user-ad-1188938005\"><div class=\"user-ad-row__image-column\"><div class=\"user-ad-row__main-image-wrapper user-ad-row__main-image-wrapper--has-image\"><img alt=\"2 BEDRM RENOVATED   CLOSE ST KILDA CHAPEL  ST TRAIN &amp; TRAM\" class=\"user-ad-row__image image image--is-hidden\" src=\"\"/></div></div><div class=\"user-ad-row__details\"><div class=\"user-ad-row__info\"><p class=\"user-ad-row__title\">2 BEDRM RENOVATED   CLOSE ST KILDA CHAPEL  ST TRAIN &amp; TRAM</p><div class=\"user-ad-price user-ad-price--row\"><span class=\"user-ad-price__price\">$449</span> <!-- --> <!-- --> <!-- --> <!-- --> <!-- --> <!-- --> </div><ul class=\"user-ad-attributes\"><li class=\"user-ad-attributes__attribute\">1 Bathroom</li><li class=\"user-ad-attributes__attribute\">2 Bedrooms</li><li class=\"user-ad-attributes__attribute\">Apartment &amp; Unit</li></ul><p class=\"user-ad-row__description user-ad-row__description--regular\" id=\"user-ad-desc-ALTERNATIVE-1188938005\">===================================================================== MUST SEE- BEAUTIFULLY RENOVATED FULLY FURNISHED 2 BEDROOM APARTMENT ONE LARGE BEDROOM, ONE SMALL BEDROOM LOCATED CLOSE TO ST KILDA ANDCHAPEL ST AND ST KILDA 2 MINS. WALK TO TRAM 5 MINS TO TRAIN ONLY 5 STOPS TO CITY. BUS ROUTE RUNS IN FRONT OF PROPERTY. BUSY CARLISLE ST IS JUST AROUND THE CORNER. CHAPEL STREET IS THE IN SHOPPING STRIP FOR THE FASHIONABLE, MANY BOUTIQUES &amp; EATERIES OF ALL KINDS. \n",
       " THIS SUNNY 2 BED</p></div><div class=\"user-ad-row__extra-info\"><div class=\"user-ad-row__location\"><span class=\"user-ad-row__location-area\">Stonnington Area</span>Armadale<span class=\"user-ad-row__distance\"> <!-- -->&lt; 3 km</span></div><p class=\"user-ad-row__age\">Yesterday</p></div></div><button class=\"user-ad-row__watchlist-star-wrapper watchlist-star button button--none button--flexible button--rounded\" type=\"button\"><span aria-hidden=\"true\" class=\"\"><span class=\"icon-star icon-star user-ad-row__watchlist-star-icon\"></span></span></button></a>,\n",
       " <a aria-describedby=\"user-ad-desc-ALTERNATIVE-1200371232\" aria-label=\"One bedroom unit for rent.\n",
       "         Price: $360 .\n",
       "         Location: Stonnington Area, Armadale. Ad listed 08/11/2018.\" class=\"user-ad-row link link--base-color-inherit link--hover-color-none link--no-underline\" href=\"/s-ad/armadale/property-for-rent/one-bedroom-unit-for-rent/1200371232\" id=\"user-ad-1200371232\"><div class=\"user-ad-row__image-column\"><div class=\"user-ad-row__main-image-wrapper user-ad-row__main-image-wrapper--has-image\"><img alt=\"One bedroom unit for rent\" class=\"user-ad-row__image image image--is-hidden\" src=\"\"/></div></div><div class=\"user-ad-row__details\"><div class=\"user-ad-row__info\"><p class=\"user-ad-row__title\">One bedroom unit for rent</p><div class=\"user-ad-price user-ad-price--row\"><span class=\"user-ad-price__price\">$360</span> <!-- --> <!-- --> <!-- --> <!-- --> <!-- --> <!-- --> </div><ul class=\"user-ad-attributes\"><li class=\"user-ad-attributes__attribute\">1 Bathroom</li><li class=\"user-ad-attributes__attribute\">1 Bedroom</li><li class=\"user-ad-attributes__attribute\">Apartment &amp; Unit</li></ul><p class=\"user-ad-row__description user-ad-row__description--regular\" id=\"user-ad-desc-ALTERNATIVE-1200371232\">Hello! My one bedroom apartment in Armadale is up for rent. It is a ground floor apartment with a parking space. Rent is $360 a week not including utilities. The apartment will be available from 17 December 2018. Get in contact if you'd like to view the property!</p></div><div class=\"user-ad-row__extra-info\"><div class=\"user-ad-row__location\"><span class=\"user-ad-row__location-area\">Stonnington Area</span>Armadale<span class=\"user-ad-row__distance\"> <!-- -->&lt; 3 km</span></div><p class=\"user-ad-row__age\">08/11/2018</p></div></div><button class=\"user-ad-row__watchlist-star-wrapper watchlist-star button button--none button--flexible button--rounded\" type=\"button\"><span aria-hidden=\"true\" class=\"\"><span class=\"icon-star icon-star user-ad-row__watchlist-star-icon\"></span></span></button></a>]"
      ]
     },
     "execution_count": 32,
     "metadata": {},
     "output_type": "execute_result"
    }
   ],
   "source": [
    "house_containers"
   ]
  },
  {
   "cell_type": "code",
   "execution_count": 1,
   "metadata": {},
   "outputs": [
    {
     "ename": "NameError",
     "evalue": "name 'first' is not defined",
     "output_type": "error",
     "traceback": [
      "\u001b[1;31m---------------------------------------------------------------------------\u001b[0m",
      "\u001b[1;31mNameError\u001b[0m                                 Traceback (most recent call last)",
      "\u001b[1;32m<ipython-input-1-efd1ddf09d28>\u001b[0m in \u001b[0;36m<module>\u001b[1;34m()\u001b[0m\n\u001b[0;32m      1\u001b[0m \u001b[1;31m# print(first)\u001b[0m\u001b[1;33m\u001b[0m\u001b[1;33m\u001b[0m\u001b[0m\n\u001b[1;32m----> 2\u001b[1;33m \u001b[0mfirst\u001b[0m\u001b[1;33m.\u001b[0m\u001b[0mfind_all\u001b[0m\u001b[1;33m(\u001b[0m\u001b[1;34m'a'\u001b[0m\u001b[1;33m)\u001b[0m\u001b[1;33m\u001b[0m\u001b[0m\n\u001b[0m\u001b[0;32m      3\u001b[0m \u001b[1;31m#     print (url)\u001b[0m\u001b[1;33m\u001b[0m\u001b[1;33m\u001b[0m\u001b[0m\n",
      "\u001b[1;31mNameError\u001b[0m: name 'first' is not defined"
     ]
    }
   ],
   "source": [
    "# print(first)\n",
    "first.find_all('a')\n",
    "#     print (url)"
   ]
  }
 ],
 "metadata": {
  "kernelspec": {
   "display_name": "Python 3",
   "language": "python",
   "name": "python3"
  },
  "language_info": {
   "codemirror_mode": {
    "name": "ipython",
    "version": 3
   },
   "file_extension": ".py",
   "mimetype": "text/x-python",
   "name": "python",
   "nbconvert_exporter": "python",
   "pygments_lexer": "ipython3",
   "version": "3.6.4"
  }
 },
 "nbformat": 4,
 "nbformat_minor": 2
}
